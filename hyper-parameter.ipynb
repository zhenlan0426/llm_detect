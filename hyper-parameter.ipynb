{
 "cells": [
  {
   "cell_type": "code",
   "execution_count": 1,
   "metadata": {},
   "outputs": [],
   "source": [
    "from transformers import AutoTokenizer, AutoModelForSequenceClassification,AutoModelForCausalLM\n",
    "import torch.nn as nn\n",
    "import pandas as pd\n",
    "import numpy as np\n",
    "import math\n",
    "import pickle\n",
    "from sklearn.metrics import roc_auc_score\n",
    "import nlpaug.augmenter.word as naw\n",
    "from functools import partial\n",
    "from functions import *\n",
    "import os\n",
    "os.environ[\"TOKENIZERS_PARALLELISM\"] = \"false\""
   ]
  },
  {
   "cell_type": "code",
   "execution_count": 2,
   "metadata": {},
   "outputs": [],
   "source": [
    "batch_size = 1\n",
    "num_workers = 16\n",
    "accumulation_steps = 64\n",
    "verbose = 2048\n",
    "lr = 8e-5\n",
    "clip = 8e-3\n",
    "\n",
    "save_model_path = get_next_folder_name('Model/')\n",
    "if not os.path.exists(save_model_path):\n",
    "    os.makedirs(save_model_path)\n",
    "device = 'cuda'"
   ]
  },
  {
   "cell_type": "code",
   "execution_count": 3,
   "metadata": {},
   "outputs": [],
   "source": [
    "## get random hyper-parameters ##\n",
    "TARGET_MODEL = \"mistralai/Mistral-7B-v0.1\"\n",
    "pred_type = np.random.choice(['LM','classification'])\n",
    "config_type = np.random.choice(['prefix','prompt_encoder','prompt_txt','LoRA'],p=[0.3,0.3,0.1,0.3])\n",
    "epochs = 2\n",
    "alpha = np.random.rand()*0.1\n",
    "aug_kwargs = dict(aug_max=np.random.randint(5,30),aug_p=np.random.rand()*0.3)\n",
    "config_class,config_kwargs = get_random_config(config_type,pred_type,TARGET_MODEL)"
   ]
  },
  {
   "cell_type": "code",
   "execution_count": 4,
   "metadata": {},
   "outputs": [
    {
     "data": {
      "text/plain": [
       "('mistralai/Mistral-7B-v0.1',\n",
       " 'classification',\n",
       " 'prompt_encoder',\n",
       " 2,\n",
       " 0.017380905301284978,\n",
       " {'aug_max': 29, 'aug_p': 0.14823071313383032},\n",
       " peft.tuners.p_tuning.config.PromptEncoderConfig,\n",
       " {'task_type': 'SEQ_CLS',\n",
       "  'num_virtual_tokens': 24,\n",
       "  'encoder_hidden_size': 2048,\n",
       "  'encoder_dropout': 0.10530677543381284,\n",
       "  'encoder_num_layers': 1,\n",
       "  'encoder_reparameterization_type': 'MLP'})"
      ]
     },
     "execution_count": 4,
     "metadata": {},
     "output_type": "execute_result"
    }
   ],
   "source": [
    "TARGET_MODEL, pred_type, config_type, epochs, alpha, aug_kwargs, config_class, config_kwargs"
   ]
  },
  {
   "cell_type": "code",
   "execution_count": 5,
   "metadata": {},
   "outputs": [],
   "source": [
    "# load hyper-parameter for inference\n",
    "# with open(save_model_path+'/config.pkl', 'rb') as pickle_file:\n",
    "#     config = pickle.load(pickle_file)\n",
    "# TARGET_MODEL, pred_type, config_type, epochs, alpha, aug_kwargs, config_class, config_kwargs = load_config(config)"
   ]
  },
  {
   "cell_type": "markdown",
   "metadata": {},
   "source": [
    "Data"
   ]
  },
  {
   "cell_type": "code",
   "execution_count": 6,
   "metadata": {},
   "outputs": [],
   "source": [
    "val = pd.read_csv('data/val_data.csv')\n",
    "train = pd.read_csv('data/train_data.csv')"
   ]
  },
  {
   "cell_type": "code",
   "execution_count": 7,
   "metadata": {},
   "outputs": [],
   "source": [
    "tokenizer = AutoTokenizer.from_pretrained(TARGET_MODEL)\n",
    "tokenizer.pad_token = tokenizer.eos_token"
   ]
  },
  {
   "cell_type": "code",
   "execution_count": 8,
   "metadata": {},
   "outputs": [],
   "source": [
    "# http://paraphrase.org/#/download\n",
    "# https://github.com/makcedward/nlpaug/blob/master/example/textual_augmenter.ipynb\n",
    "aug = naw.SynonymAug(aug_src='ppdb',model_path='Model/ppdb-2.0-s-all',\n",
    "                     aug_min=1,\n",
    "                     **aug_kwargs)\n",
    "# print(aug.augment(train.text.iloc[3]))"
   ]
  },
  {
   "cell_type": "code",
   "execution_count": 9,
   "metadata": {},
   "outputs": [],
   "source": [
    "if pred_type == 'LM':\n",
    "    prompt = tokenizer.batch_encode_plus(['Is this essay AI-generated, yes or no?'],add_special_tokens=False,return_tensors='pt')\n",
    "    prompt,prompt_mask = prompt['input_ids'],prompt['attention_mask']\n",
    "else:\n",
    "    prompt,prompt_mask = None, None\n",
    "train_data = TxtData(train,aug.augment)\n",
    "train_loader = DataLoader(train_data, batch_size=batch_size, shuffle=True, num_workers=num_workers, \\\n",
    "                        collate_fn=partial(collate_fn,tokenizer=tokenizer,prompt=prompt,prompt_mask=prompt_mask))\n",
    "val_data = InfData(val)\n",
    "val_loader = DataLoader(val_data, batch_size=batch_size*2, shuffle=False, num_workers=num_workers, \\\n",
    "                        collate_fn=partial(collate_inf,tokenizer=tokenizer,prompt=prompt,prompt_mask=prompt_mask))\n",
    "# input_ids,attention_mask, label, score = next(iter(train_loader))"
   ]
  },
  {
   "cell_type": "markdown",
   "metadata": {},
   "source": [
    "Model"
   ]
  },
  {
   "cell_type": "code",
   "execution_count": 10,
   "metadata": {},
   "outputs": [
    {
     "data": {
      "application/vnd.jupyter.widget-view+json": {
       "model_id": "424e1cef57fe43d3a9644f9262c92bff",
       "version_major": 2,
       "version_minor": 0
      },
      "text/plain": [
       "Loading checkpoint shards:   0%|          | 0/2 [00:00<?, ?it/s]"
      ]
     },
     "metadata": {},
     "output_type": "display_data"
    },
    {
     "name": "stderr",
     "output_type": "stream",
     "text": [
      "Some weights of MistralForSequenceClassification were not initialized from the model checkpoint at mistralai/Mistral-7B-v0.1 and are newly initialized: ['score.weight']\n",
      "You should probably TRAIN this model on a down-stream task to be able to use it for predictions and inference.\n",
      "/home/zhenlan/anaconda3/lib/python3.10/site-packages/peft/tuners/p_tuning/model.py:106: UserWarning: for MLP, the argument `encoder_num_layers` is ignored. Exactly 2 MLP layers are used.\n",
      "  warnings.warn(\n"
     ]
    }
   ],
   "source": [
    "from torch.nn.utils import clip_grad_value_\n",
    "from transformers import BitsAndBytesConfig\n",
    "from peft import get_peft_model\n",
    "\n",
    "nf4_config = BitsAndBytesConfig(\n",
    "   load_in_4bit=True,\n",
    "   bnb_4bit_quant_type=\"nf4\",\n",
    "   bnb_4bit_use_double_quant=True,\n",
    "   bnb_4bit_compute_dtype=torch.bfloat16\n",
    ")\n",
    "base_class = AutoModelForCausalLM if pred_type == 'LM' else AutoModelForSequenceClassification\n",
    "base_model = base_class.from_pretrained(TARGET_MODEL,quantization_config=nf4_config, \\\n",
    "                                                          device_map={\"\":0},use_flash_attention_2=True)\n",
    "peft_config = config_class(**config_kwargs)    \n",
    "model = get_peft_model(base_model, peft_config)\n",
    "model.config.pad_token_id = tokenizer.pad_token_id\n",
    "# model.print_trainable_parameters()\n",
    "trainable_params = [param for param in model.parameters() if param.requires_grad]\n",
    "trainable_names = [name for name,param in model.named_parameters() if param.requires_grad]\n",
    "# optimizer = torch.optim.AdamW(trainable_params,lr = lr,amsgrad=True,weight_decay=6e-3)\n",
    "optimizer = torch.optim.SGD(trainable_params,lr=lr)\n",
    "if pred_type == 'LM':\n",
    "    model_lm = LM(model,tokenizer,config_kwargs.get('num_virtual_tokens', 0),alpha,config_type)\n",
    "else:\n",
    "    model_lm = Classification(model,alpha)"
   ]
  },
  {
   "cell_type": "code",
   "execution_count": 11,
   "metadata": {},
   "outputs": [
    {
     "name": "stdout",
     "output_type": "stream",
     "text": [
      "epoch 0 iter 2047: train loss 1.8627260276896322, test AUC 0.52608974524764\n",
      "epoch 0 iter 4095: train loss 1.110802516244263, test AUC 0.5671491012543645\n",
      "epoch 0 iter 6143: train loss 0.7810555421343679, test AUC 0.6288431397905082\n",
      "epoch 0 iter 8191: train loss 0.7372587505351476, test AUC 0.6475623949308159\n",
      "epoch 0 iter 10239: train loss 0.658708295615213, test AUC 0.7030901331953964\n",
      "epoch 0 iter 12287: train loss 0.6330276468474416, test AUC 0.7340457778352516\n",
      "epoch 0 iter 14335: train loss 0.5119002051502832, test AUC 0.7287738264580369\n",
      "epoch 0 iter 16383: train loss 0.5003882889196234, test AUC 0.8190259924996767\n",
      "epoch 0 iter 18431: train loss 0.4128437285005049, test AUC 0.8221037113668692\n",
      "epoch 0 iter 20479: train loss 0.39672157420218923, test AUC 0.8554667011509117\n",
      "epoch 0 iter 22527: train loss 0.4260173111860013, test AUC 0.8377245570929781\n",
      "epoch 0 iter 24575: train loss 0.35463347213314833, test AUC 0.8787502909608171\n",
      "epoch 0 iter 26623: train loss 0.3591720194772279, test AUC 0.8741187120134488\n",
      "epoch 0 iter 28671: train loss 0.3449560415617441, test AUC 0.8263525151946205\n",
      "epoch 0 iter 30719: train loss 0.3383129247503689, test AUC 0.8616702444070865\n",
      "epoch 0 iter 32767: train loss 0.29945910576459056, test AUC 0.8706902883744989\n",
      "epoch 0 iter 34815: train loss 0.2885616592434417, test AUC 0.8784725203672572\n",
      "epoch 0 iter 36863: train loss 0.3158749555990994, test AUC 0.9026633906633907\n",
      "epoch 0 iter 38911: train loss 0.3023725563063131, test AUC 0.8973459200827623\n",
      "epoch 0 iter 40959: train loss 0.2826705382156547, test AUC 0.8945909737488684\n",
      "epoch 1 iter 2047: train loss 0.3091278367044774, test AUC 0.9127702056123108\n",
      "epoch 1 iter 4095: train loss 0.23500201725572367, test AUC 0.9111335833441097\n"
     ]
    },
    {
     "ename": "KeyboardInterrupt",
     "evalue": "",
     "output_type": "error",
     "traceback": [
      "\u001b[0;31m---------------------------------------------------------------------------\u001b[0m",
      "\u001b[0;31mKeyboardInterrupt\u001b[0m                         Traceback (most recent call last)",
      "\u001b[1;32m/home/zhenlan/Desktop/Projects/LLM - Detect AI Generated Text/hyper-parameter.ipynb Cell 13\u001b[0m line \u001b[0;36m1\n\u001b[1;32m     <a href='vscode-notebook-cell:/home/zhenlan/Desktop/Projects/LLM%20-%20Detect%20AI%20Generated%20Text/hyper-parameter.ipynb#X15sZmlsZQ%3D%3D?line=12'>13</a>\u001b[0m     skip \u001b[39m+\u001b[39m\u001b[39m=\u001b[39m \u001b[39m1\u001b[39m\n\u001b[1;32m     <a href='vscode-notebook-cell:/home/zhenlan/Desktop/Projects/LLM%20-%20Detect%20AI%20Generated%20Text/hyper-parameter.ipynb#X15sZmlsZQ%3D%3D?line=13'>14</a>\u001b[0m     \u001b[39mcontinue\u001b[39;00m\n\u001b[0;32m---> <a href='vscode-notebook-cell:/home/zhenlan/Desktop/Projects/LLM%20-%20Detect%20AI%20Generated%20Text/hyper-parameter.ipynb#X15sZmlsZQ%3D%3D?line=15'>16</a>\u001b[0m loss\u001b[39m.\u001b[39;49mbackward()\n\u001b[1;32m     <a href='vscode-notebook-cell:/home/zhenlan/Desktop/Projects/LLM%20-%20Detect%20AI%20Generated%20Text/hyper-parameter.ipynb#X15sZmlsZQ%3D%3D?line=16'>17</a>\u001b[0m train_loss \u001b[39m+\u001b[39m\u001b[39m=\u001b[39m loss\u001b[39m.\u001b[39mitem()\n\u001b[1;32m     <a href='vscode-notebook-cell:/home/zhenlan/Desktop/Projects/LLM%20-%20Detect%20AI%20Generated%20Text/hyper-parameter.ipynb#X15sZmlsZQ%3D%3D?line=17'>18</a>\u001b[0m \u001b[39m# print(i,train_loss)\u001b[39;00m\n",
      "File \u001b[0;32m~/anaconda3/lib/python3.10/site-packages/torch/_tensor.py:487\u001b[0m, in \u001b[0;36mTensor.backward\u001b[0;34m(self, gradient, retain_graph, create_graph, inputs)\u001b[0m\n\u001b[1;32m    477\u001b[0m \u001b[39mif\u001b[39;00m has_torch_function_unary(\u001b[39mself\u001b[39m):\n\u001b[1;32m    478\u001b[0m     \u001b[39mreturn\u001b[39;00m handle_torch_function(\n\u001b[1;32m    479\u001b[0m         Tensor\u001b[39m.\u001b[39mbackward,\n\u001b[1;32m    480\u001b[0m         (\u001b[39mself\u001b[39m,),\n\u001b[0;32m   (...)\u001b[0m\n\u001b[1;32m    485\u001b[0m         inputs\u001b[39m=\u001b[39minputs,\n\u001b[1;32m    486\u001b[0m     )\n\u001b[0;32m--> 487\u001b[0m torch\u001b[39m.\u001b[39;49mautograd\u001b[39m.\u001b[39;49mbackward(\n\u001b[1;32m    488\u001b[0m     \u001b[39mself\u001b[39;49m, gradient, retain_graph, create_graph, inputs\u001b[39m=\u001b[39;49minputs\n\u001b[1;32m    489\u001b[0m )\n",
      "File \u001b[0;32m~/anaconda3/lib/python3.10/site-packages/torch/autograd/__init__.py:200\u001b[0m, in \u001b[0;36mbackward\u001b[0;34m(tensors, grad_tensors, retain_graph, create_graph, grad_variables, inputs)\u001b[0m\n\u001b[1;32m    195\u001b[0m     retain_graph \u001b[39m=\u001b[39m create_graph\n\u001b[1;32m    197\u001b[0m \u001b[39m# The reason we repeat same the comment below is that\u001b[39;00m\n\u001b[1;32m    198\u001b[0m \u001b[39m# some Python versions print out the first line of a multi-line function\u001b[39;00m\n\u001b[1;32m    199\u001b[0m \u001b[39m# calls in the traceback and some print out the last line\u001b[39;00m\n\u001b[0;32m--> 200\u001b[0m Variable\u001b[39m.\u001b[39;49m_execution_engine\u001b[39m.\u001b[39;49mrun_backward(  \u001b[39m# Calls into the C++ engine to run the backward pass\u001b[39;49;00m\n\u001b[1;32m    201\u001b[0m     tensors, grad_tensors_, retain_graph, create_graph, inputs,\n\u001b[1;32m    202\u001b[0m     allow_unreachable\u001b[39m=\u001b[39;49m\u001b[39mTrue\u001b[39;49;00m, accumulate_grad\u001b[39m=\u001b[39;49m\u001b[39mTrue\u001b[39;49;00m)\n",
      "\u001b[0;31mKeyboardInterrupt\u001b[0m: "
     ]
    }
   ],
   "source": [
    "loss_fn = nn.BCEWithLogitsLoss()\n",
    "loss_fct = torch.nn.CrossEntropyLoss()\n",
    "best_auc = 0\n",
    "for epoch in range(epochs):\n",
    "    model.train()\n",
    "    train_loss = 0\n",
    "    skip = 0\n",
    "    for i, (input_ids,attention_mask, label, score) in enumerate(train_loader):\n",
    "        # train\n",
    "        input_ids,attention_mask, label, score = input_ids.to('cuda'),attention_mask.to('cuda'), label.to('cuda'), score.to('cuda')\n",
    "        loss = model_lm.get_loss(input_ids,attention_mask, label, score)\n",
    "        if math.isinf(loss.item()) or math.isnan(loss.item()):\n",
    "            skip += 1\n",
    "            continue\n",
    "\n",
    "        loss.backward()\n",
    "        train_loss += loss.item()\n",
    "        # print(i,train_loss)\n",
    "        if (i + 1) % accumulation_steps == 0:\n",
    "            clip_grad_value_(trainable_params,clip)\n",
    "            optimizer.step()\n",
    "            optimizer.zero_grad()\n",
    "\n",
    "        # eval    \n",
    "        if (i + 1) % verbose == 0:\n",
    "            model.eval()\n",
    "            train_loss /= (verbose-skip)\n",
    "            yhat = []\n",
    "            for input_ids,attention_mask in val_loader:\n",
    "                input_ids,attention_mask = input_ids.to('cuda'),attention_mask.to('cuda')\n",
    "                out = model_lm.predict(input_ids,attention_mask).detach().cpu().numpy()\n",
    "                yhat.append(out)\n",
    "            yhat = np.concatenate(yhat)\n",
    "            auc = roc_auc_score(val.label.to_numpy(), yhat)\n",
    "            print(f\"epoch {epoch} iter {i}: train loss {train_loss}, test AUC {auc}\")\n",
    "            if auc > best_auc:\n",
    "                best_auc = auc\n",
    "                torch.save({k: v for k, v in model.state_dict().items() if k in trainable_names}, save_model_path+'/weights.pth')\n",
    "            train_loss = 0\n",
    "            skip = 0\n",
    "            model.train()"
   ]
  },
  {
   "cell_type": "code",
   "execution_count": null,
   "metadata": {},
   "outputs": [],
   "source": [
    "# save config and local score\n",
    "config = save_config(TARGET_MODEL, pred_type, config_type, epochs, alpha, aug_kwargs, config_kwargs)\n",
    "config['local auc'] = best_auc\n",
    "with open(save_model_path+'/config.pkl', 'wb') as pickle_file:\n",
    "    pickle.dump(config, pickle_file)"
   ]
  },
  {
   "cell_type": "markdown",
   "metadata": {},
   "source": [
    "Inference"
   ]
  },
  {
   "cell_type": "code",
   "execution_count": null,
   "metadata": {},
   "outputs": [],
   "source": [
    "# from transformers import AutoTokenizer, AutoModelForSequenceClassification,AutoModelForCausalLM\n",
    "# import torch.nn as nn\n",
    "# import pandas as pd\n",
    "# import numpy as np\n",
    "# import math\n",
    "# import pickle\n",
    "# from sklearn.metrics import roc_auc_score\n",
    "# import nlpaug.augmenter.word as naw\n",
    "# from functools import partial\n",
    "# from functions import *\n",
    "# import os\n",
    "# os.environ[\"TOKENIZERS_PARALLELISM\"] = \"false\"\n",
    "# batch_size = 1\n",
    "# num_workers = 16\n",
    "# accumulation_steps = 64\n",
    "# verbose = 2048\n",
    "# lr = 8e-5\n",
    "# clip = 8e-3\n",
    "\n",
    "# save_model_path = 'Model/model03'\n",
    "# device = 'cuda'\n",
    "# # load hyper-parameter for inference\n",
    "# with open(save_model_path+'/config.pkl', 'rb') as pickle_file:\n",
    "#     config = pickle.load(pickle_file)\n",
    "# TARGET_MODEL, pred_type, config_type, epochs, alpha, aug_kwargs, config_class, config_kwargs = load_config(config)\n",
    "\n",
    "# val = pd.read_csv('data/val_data.csv')\n",
    "# tokenizer = AutoTokenizer.from_pretrained(TARGET_MODEL)\n",
    "# tokenizer.pad_token = tokenizer.eos_token\n",
    "# if pred_type == 'LM':\n",
    "#     prompt = tokenizer.batch_encode_plus(['Is this essay AI-generated, yes or no?'],add_special_tokens=False,return_tensors='pt')\n",
    "#     prompt,prompt_mask = prompt['input_ids'],prompt['attention_mask']\n",
    "# else:\n",
    "#     prompt,prompt_mask = None, None\n",
    "# val_data = InfData(val)\n",
    "# val_loader = DataLoader(val_data, batch_size=batch_size*4, shuffle=False, num_workers=num_workers, \\\n",
    "#                         collate_fn=partial(collate_inf,tokenizer=tokenizer,prompt=prompt,prompt_mask=prompt_mask))\n",
    "# # input_ids,attention_mask, label, score = next(iter(train_loader))\n",
    "\n",
    "# from torch.nn.utils import clip_grad_value_\n",
    "# from transformers import BitsAndBytesConfig\n",
    "# from peft import get_peft_model\n",
    "\n",
    "# nf4_config = BitsAndBytesConfig(\n",
    "#    load_in_4bit=True,\n",
    "#    bnb_4bit_quant_type=\"nf4\",\n",
    "#    bnb_4bit_use_double_quant=True,\n",
    "#    bnb_4bit_compute_dtype=torch.bfloat16\n",
    "# )\n",
    "# base_class = AutoModelForCausalLM if pred_type == 'LM' else AutoModelForSequenceClassification\n",
    "# base_model = base_class.from_pretrained(TARGET_MODEL,quantization_config=nf4_config, \\\n",
    "#                                                           device_map={\"\":0},use_flash_attention_2=True)\n",
    "# peft_config = config_class(**config_kwargs)    \n",
    "# model = get_peft_model(base_model, peft_config)\n",
    "# model.config.pad_token_id = tokenizer.pad_token_id\n",
    "\n",
    "# model.load_state_dict(torch.load(save_model_path+'/weights.pth'),strict=False)\n",
    "# model = model.half()\n",
    "# if pred_type == 'LM':\n",
    "#     model_lm = LM(model,tokenizer,config_kwargs.get('num_virtual_tokens', 0),alpha,config_type)\n",
    "# else:\n",
    "#     model_lm = Classification(model,alpha)\n",
    "\n",
    "# yhat = []\n",
    "# for input_ids,attention_mask in val_loader:\n",
    "#     input_ids,attention_mask = input_ids.to('cuda'),attention_mask.to('cuda')\n",
    "#     out = model_lm.predict(input_ids,attention_mask).detach().cpu().numpy()\n",
    "#     yhat.append(out)\n",
    "# yhat = np.concatenate(yhat)\n",
    "# auc = roc_auc_score(val.label.to_numpy(), yhat)\n",
    "# print(auc)"
   ]
  },
  {
   "cell_type": "code",
   "execution_count": null,
   "metadata": {},
   "outputs": [],
   "source": []
  }
 ],
 "metadata": {
  "kernelspec": {
   "display_name": "base",
   "language": "python",
   "name": "python3"
  },
  "language_info": {
   "codemirror_mode": {
    "name": "ipython",
    "version": 3
   },
   "file_extension": ".py",
   "mimetype": "text/x-python",
   "name": "python",
   "nbconvert_exporter": "python",
   "pygments_lexer": "ipython3",
   "version": "3.10.9"
  }
 },
 "nbformat": 4,
 "nbformat_minor": 2
}
