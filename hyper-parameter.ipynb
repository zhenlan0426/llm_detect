{
 "cells": [
  {
   "cell_type": "code",
   "execution_count": 1,
   "metadata": {},
   "outputs": [],
   "source": [
    "from transformers import AutoTokenizer, AutoModelForSequenceClassification,AutoModelForCausalLM\n",
    "import torch.nn as nn\n",
    "import pandas as pd\n",
    "import numpy as np\n",
    "import math\n",
    "import pickle\n",
    "from sklearn.metrics import roc_auc_score\n",
    "import nlpaug.augmenter.word as naw\n",
    "from functools import partial\n",
    "from functions import *\n",
    "import os\n",
    "os.environ[\"TOKENIZERS_PARALLELISM\"] = \"false\""
   ]
  },
  {
   "cell_type": "code",
   "execution_count": 2,
   "metadata": {},
   "outputs": [],
   "source": [
    "batch_size = 1\n",
    "num_workers = 16\n",
    "accumulation_steps = 64\n",
    "verbose = 2048\n",
    "lr = 8e-5\n",
    "clip = 8e-3\n",
    "\n",
    "save_model_path = get_next_folder_name('Model/')\n",
    "if not os.path.exists(save_model_path):\n",
    "    os.makedirs(save_model_path)\n",
    "device = 'cuda'"
   ]
  },
  {
   "cell_type": "code",
   "execution_count": 5,
   "metadata": {},
   "outputs": [],
   "source": [
    "## get random hyper-parameters ##\n",
    "TARGET_MODEL = \"mistralai/Mistral-7B-v0.1\"\n",
    "pred_type = np.random.choice(['LM','classification'])\n",
    "config_type = np.random.choice(['prefix','prompt_encoder','prompt_txt','LoRA'],p=[0.3,0.3,0.1,0.3])\n",
    "epochs = 2\n",
    "alpha = np.random.rand()*0.1\n",
    "aug_kwargs = dict(aug_max=np.random.randint(5,30),aug_p=np.random.rand()*0.3)\n",
    "config_class,config_kwargs = get_random_config(config_type,pred_type,TARGET_MODEL)"
   ]
  },
  {
   "cell_type": "code",
   "execution_count": 9,
   "metadata": {},
   "outputs": [
    {
     "data": {
      "text/plain": [
       "('mistralai/Mistral-7B-v0.1',\n",
       " 'LM',\n",
       " 'LoRA',\n",
       " 2,\n",
       " 0.08,\n",
       " {'aug_max': 24, 'aug_p': 0.017483054157222764},\n",
       " peft.tuners.lora.config.LoraConfig,\n",
       " {'r': 64,\n",
       "  'lora_alpha': 16,\n",
       "  'lora_dropout': 0.19961801556694317,\n",
       "  'bias': 'none',\n",
       "  'target_modules': ['q_proj', 'k_proj', 'v_proj', 'o_proj']})"
      ]
     },
     "execution_count": 9,
     "metadata": {},
     "output_type": "execute_result"
    }
   ],
   "source": [
    "TARGET_MODEL, pred_type, config_type, epochs, alpha, aug_kwargs, config_class, config_kwargs"
   ]
  },
  {
   "cell_type": "code",
   "execution_count": 7,
   "metadata": {},
   "outputs": [],
   "source": [
    "# load hyper-parameter for inference\n",
    "# with open(save_model_path+'/config.pkl', 'rb') as pickle_file:\n",
    "#     config = pickle.load(pickle_file)\n",
    "# TARGET_MODEL, pred_type, config_type, epochs, alpha, aug_kwargs, config_class, config_kwargs = load_config(config)"
   ]
  },
  {
   "cell_type": "markdown",
   "metadata": {},
   "source": [
    "Data"
   ]
  },
  {
   "cell_type": "code",
   "execution_count": 10,
   "metadata": {},
   "outputs": [],
   "source": [
    "val = pd.read_csv('data/val_data2.csv')\n",
    "train = pd.read_csv('data/train_data2.csv')"
   ]
  },
  {
   "cell_type": "code",
   "execution_count": 11,
   "metadata": {},
   "outputs": [],
   "source": [
    "tokenizer = AutoTokenizer.from_pretrained(TARGET_MODEL)\n",
    "tokenizer.pad_token = tokenizer.eos_token"
   ]
  },
  {
   "cell_type": "code",
   "execution_count": 12,
   "metadata": {},
   "outputs": [],
   "source": [
    "# http://paraphrase.org/#/download\n",
    "# https://github.com/makcedward/nlpaug/blob/master/example/textual_augmenter.ipynb\n",
    "aug = naw.SynonymAug(aug_src='ppdb',model_path='Model/ppdb-2.0-s-all',\n",
    "                     aug_min=1,\n",
    "                     **aug_kwargs)\n",
    "# print(aug.augment(train.text.iloc[3]))"
   ]
  },
  {
   "cell_type": "code",
   "execution_count": 13,
   "metadata": {},
   "outputs": [],
   "source": [
    "if pred_type == 'LM':\n",
    "    prompt = tokenizer.batch_encode_plus(['Is this essay AI-generated, yes or no?'],add_special_tokens=False,return_tensors='pt')\n",
    "    prompt,prompt_mask = prompt['input_ids'],prompt['attention_mask']\n",
    "else:\n",
    "    prompt,prompt_mask = None, None\n",
    "train_data = TxtData(train,aug.augment)\n",
    "train_loader = DataLoader(train_data, batch_size=batch_size, shuffle=True, num_workers=num_workers, \\\n",
    "                        collate_fn=partial(collate_fn,tokenizer=tokenizer,prompt=prompt,prompt_mask=prompt_mask))\n",
    "val_data = InfData(val)\n",
    "val_loader = DataLoader(val_data, batch_size=batch_size*2, shuffle=False, num_workers=num_workers, \\\n",
    "                        collate_fn=partial(collate_inf,tokenizer=tokenizer,prompt=prompt,prompt_mask=prompt_mask))\n",
    "# input_ids,attention_mask, label, score, topic = next(iter(train_loader))"
   ]
  },
  {
   "cell_type": "markdown",
   "metadata": {},
   "source": [
    "Model"
   ]
  },
  {
   "cell_type": "code",
   "execution_count": 14,
   "metadata": {},
   "outputs": [],
   "source": [
    "# Change hidden_states output in modeling_mistral.py\n",
    "# return CausalLMOutputWithPast(\n",
    "#     loss=loss,\n",
    "#     logits=logits,\n",
    "#     past_key_values=outputs.past_key_values,\n",
    "#     hidden_states=outputs.hidden_states,\n",
    "#     hidden_states=hidden_states,\n",
    "#     attentions=outputs.attentions,\n",
    "# )"
   ]
  },
  {
   "cell_type": "code",
   "execution_count": 15,
   "metadata": {},
   "outputs": [],
   "source": [
    "beta_ = 0.25"
   ]
  },
  {
   "cell_type": "code",
   "execution_count": 16,
   "metadata": {},
   "outputs": [
    {
     "data": {
      "application/vnd.jupyter.widget-view+json": {
       "model_id": "e836b0e8c263440e9c2f5b9efbb5f3fb",
       "version_major": 2,
       "version_minor": 0
      },
      "text/plain": [
       "Loading checkpoint shards:   0%|          | 0/2 [00:00<?, ?it/s]"
      ]
     },
     "metadata": {},
     "output_type": "display_data"
    }
   ],
   "source": [
    "from torch.nn.utils import clip_grad_value_\n",
    "from transformers import BitsAndBytesConfig\n",
    "from peft import get_peft_model\n",
    "\n",
    "nf4_config = BitsAndBytesConfig(\n",
    "   load_in_4bit=True,\n",
    "   bnb_4bit_quant_type=\"nf4\",\n",
    "   bnb_4bit_use_double_quant=True,\n",
    "   bnb_4bit_compute_dtype=torch.bfloat16\n",
    ")\n",
    "base_class = AutoModelForCausalLM if pred_type == 'LM' else AutoModelForSequenceClassification\n",
    "base_model = base_class.from_pretrained(TARGET_MODEL,quantization_config=nf4_config, \\\n",
    "                                                          device_map={\"\":0},use_flash_attention_2=True)\n",
    "# base_model.config.output_hidden_states = True\n",
    "peft_config = config_class(**config_kwargs)    \n",
    "model = get_peft_model(base_model, peft_config)\n",
    "model.config.pad_token_id = tokenizer.pad_token_id\n",
    "# model.print_trainable_parameters()\n",
    "topicModel = MLP(model.config.hidden_size,14,2,2048,0.1).to('cuda')\n",
    "trainable_params = [param for param in model.parameters() if param.requires_grad] + [param for param in topicModel.parameters()]\n",
    "trainable_names = [name for name,param in model.named_parameters() if param.requires_grad]\n",
    "# optimizer = torch.optim.AdamW(trainable_params,lr = lr,amsgrad=True,weight_decay=6e-3)\n",
    "optimizer = torch.optim.SGD(trainable_params,lr=lr)\n",
    "if pred_type == 'LM':\n",
    "    model_lm = LM(model,tokenizer,config_kwargs.get('num_virtual_tokens', 0),alpha,config_type,topicModel,beta_)\n",
    "else:\n",
    "    model_lm = Classification(model,alpha,topicModel,beta_)"
   ]
  },
  {
   "cell_type": "code",
   "execution_count": 17,
   "metadata": {},
   "outputs": [],
   "source": [
    "loss_fn = nn.BCEWithLogitsLoss()\n",
    "loss_fct = torch.nn.CrossEntropyLoss()\n",
    "best_auc = 0\n",
    "topicModel.train()\n",
    "for epoch in range(epochs):\n",
    "    model.train()\n",
    "    train_loss = 0\n",
    "    skip = 0\n",
    "    for i, (input_ids,attention_mask, label, score, topic) in enumerate(train_loader):\n",
    "        # train\n",
    "        input_ids,attention_mask, label, score, topic = input_ids.to('cuda'),attention_mask.to('cuda'), label.to('cuda'), score.to('cuda'), topic.to('cuda')\n",
    "        loss = model_lm.get_loss(input_ids,attention_mask, label, score,topic)\n",
    "        if math.isinf(loss.item()) or math.isnan(loss.item()):\n",
    "            skip += 1\n",
    "            continue\n",
    "\n",
    "        loss.backward()\n",
    "        train_loss += loss.item()\n",
    "        # print(i,train_loss)\n",
    "        if (i + 1) % accumulation_steps == 0:\n",
    "            clip_grad_value_(trainable_params,clip)\n",
    "            optimizer.step()\n",
    "            optimizer.zero_grad()\n",
    "\n",
    "        # eval    \n",
    "        if (i + 1) % verbose == 0:\n",
    "            model.eval()\n",
    "            train_loss /= (verbose-skip)\n",
    "            yhat = []\n",
    "            for input_ids,attention_mask in val_loader:\n",
    "                input_ids,attention_mask = input_ids.to('cuda'),attention_mask.to('cuda')\n",
    "                out = model_lm.predict(input_ids,attention_mask).detach().cpu().numpy()\n",
    "                yhat.append(out)\n",
    "            yhat = np.concatenate(yhat)\n",
    "            auc = roc_auc_score(val.label.to_numpy(), yhat)\n",
    "            print(f\"epoch {epoch} iter {i}: train loss {train_loss}, test AUC {auc}\")\n",
    "            if auc > best_auc:\n",
    "                best_auc = auc\n",
    "                torch.save({k: v for k, v in model.state_dict().items() if k in trainable_names}, save_model_path+'/weights.pth')\n",
    "            train_loss = 0\n",
    "            skip = 0\n",
    "            model.train()"
   ]
  },
  {
   "cell_type": "code",
   "execution_count": null,
   "metadata": {},
   "outputs": [],
   "source": [
    "# save config and local score\n",
    "config = save_config(TARGET_MODEL, pred_type, config_type, epochs, alpha, aug_kwargs, config_kwargs)\n",
    "config['local auc'] = best_auc\n",
    "with open(save_model_path+'/config.pkl', 'wb') as pickle_file:\n",
    "    pickle.dump(config, pickle_file)"
   ]
  },
  {
   "cell_type": "markdown",
   "metadata": {},
   "source": [
    "Inference"
   ]
  },
  {
   "cell_type": "code",
   "execution_count": null,
   "metadata": {},
   "outputs": [],
   "source": [
    "# from transformers import AutoTokenizer, AutoModelForSequenceClassification,AutoModelForCausalLM\n",
    "# import torch.nn as nn\n",
    "# import pandas as pd\n",
    "# import numpy as np\n",
    "# import math\n",
    "# import pickle\n",
    "# from sklearn.metrics import roc_auc_score\n",
    "# import nlpaug.augmenter.word as naw\n",
    "# from functools import partial\n",
    "# from functions import *\n",
    "# import os\n",
    "# os.environ[\"TOKENIZERS_PARALLELISM\"] = \"false\"\n",
    "# batch_size = 1\n",
    "# num_workers = 16\n",
    "# accumulation_steps = 64\n",
    "# verbose = 2048\n",
    "# lr = 8e-5\n",
    "# clip = 8e-3\n",
    "\n",
    "# save_model_path = 'Model/model03'\n",
    "# device = 'cuda'\n",
    "# # load hyper-parameter for inference\n",
    "# with open(save_model_path+'/config.pkl', 'rb') as pickle_file:\n",
    "#     config = pickle.load(pickle_file)\n",
    "# TARGET_MODEL, pred_type, config_type, epochs, alpha, aug_kwargs, config_class, config_kwargs = load_config(config)\n",
    "\n",
    "# val = pd.read_csv('data/val_data.csv')\n",
    "# tokenizer = AutoTokenizer.from_pretrained(TARGET_MODEL)\n",
    "# tokenizer.pad_token = tokenizer.eos_token\n",
    "# if pred_type == 'LM':\n",
    "#     prompt = tokenizer.batch_encode_plus(['Is this essay AI-generated, yes or no?'],add_special_tokens=False,return_tensors='pt')\n",
    "#     prompt,prompt_mask = prompt['input_ids'],prompt['attention_mask']\n",
    "# else:\n",
    "#     prompt,prompt_mask = None, None\n",
    "# val_data = InfData(val)\n",
    "# val_loader = DataLoader(val_data, batch_size=batch_size*4, shuffle=False, num_workers=num_workers, \\\n",
    "#                         collate_fn=partial(collate_inf,tokenizer=tokenizer,prompt=prompt,prompt_mask=prompt_mask))\n",
    "# # input_ids,attention_mask, label, score = next(iter(train_loader))\n",
    "\n",
    "# from torch.nn.utils import clip_grad_value_\n",
    "# from transformers import BitsAndBytesConfig\n",
    "# from peft import get_peft_model\n",
    "\n",
    "# nf4_config = BitsAndBytesConfig(\n",
    "#    load_in_4bit=True,\n",
    "#    bnb_4bit_quant_type=\"nf4\",\n",
    "#    bnb_4bit_use_double_quant=True,\n",
    "#    bnb_4bit_compute_dtype=torch.bfloat16\n",
    "# )\n",
    "# base_class = AutoModelForCausalLM if pred_type == 'LM' else AutoModelForSequenceClassification\n",
    "# base_model = base_class.from_pretrained(TARGET_MODEL,quantization_config=nf4_config, \\\n",
    "#                                                           device_map={\"\":0},use_flash_attention_2=True)\n",
    "# peft_config = config_class(**config_kwargs)    \n",
    "# model = get_peft_model(base_model, peft_config)\n",
    "# model.config.pad_token_id = tokenizer.pad_token_id\n",
    "\n",
    "# model.load_state_dict(torch.load(save_model_path+'/weights.pth'),strict=False)\n",
    "# model = model.half()\n",
    "# if pred_type == 'LM':\n",
    "#     model_lm = LM(model,tokenizer,config_kwargs.get('num_virtual_tokens', 0),alpha,config_type)\n",
    "# else:\n",
    "#     model_lm = Classification(model,alpha)\n",
    "\n",
    "# yhat = []\n",
    "# for input_ids,attention_mask in val_loader:\n",
    "#     input_ids,attention_mask = input_ids.to('cuda'),attention_mask.to('cuda')\n",
    "#     out = model_lm.predict(input_ids,attention_mask).detach().cpu().numpy()\n",
    "#     yhat.append(out)\n",
    "# yhat = np.concatenate(yhat)\n",
    "# auc = roc_auc_score(val.label.to_numpy(), yhat)\n",
    "# print(auc)"
   ]
  },
  {
   "cell_type": "code",
   "execution_count": null,
   "metadata": {},
   "outputs": [],
   "source": []
  }
 ],
 "metadata": {
  "kernelspec": {
   "display_name": "base",
   "language": "python",
   "name": "python3"
  },
  "language_info": {
   "codemirror_mode": {
    "name": "ipython",
    "version": 3
   },
   "file_extension": ".py",
   "mimetype": "text/x-python",
   "name": "python",
   "nbconvert_exporter": "python",
   "pygments_lexer": "ipython3",
   "version": "3.10.9"
  }
 },
 "nbformat": 4,
 "nbformat_minor": 2
}
