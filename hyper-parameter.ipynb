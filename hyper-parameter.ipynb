{
 "cells": [
  {
   "cell_type": "code",
   "execution_count": 1,
   "metadata": {},
   "outputs": [],
   "source": [
    "from transformers import AutoTokenizer, AutoModelForSequenceClassification,AutoModelForCausalLM\n",
    "import torch.nn as nn\n",
    "import pandas as pd\n",
    "import numpy as np\n",
    "import math\n",
    "import pickle\n",
    "from sklearn.metrics import roc_auc_score\n",
    "import nlpaug.augmenter.word as naw\n",
    "from functools import partial\n",
    "from functions import *\n",
    "import os\n",
    "os.environ[\"TOKENIZERS_PARALLELISM\"] = \"false\""
   ]
  },
  {
   "cell_type": "code",
   "execution_count": 2,
   "metadata": {},
   "outputs": [],
   "source": [
    "batch_size = 1\n",
    "num_workers = 16\n",
    "accumulation_steps = 64\n",
    "verbose = 2048\n",
    "lr = 8e-5\n",
    "clip = 8e-3\n",
    "\n",
    "save_model_path = get_next_folder_name('Model/')\n",
    "if not os.path.exists(save_model_path):\n",
    "    os.makedirs(save_model_path)\n",
    "device = 'cuda'"
   ]
  },
  {
   "cell_type": "code",
   "execution_count": 3,
   "metadata": {},
   "outputs": [],
   "source": [
    "## get random hyper-parameters ##\n",
    "TARGET_MODEL = \"mistralai/Mistral-7B-v0.1\"\n",
    "pred_type = np.random.choice(['LM','classification'])\n",
    "config_type = np.random.choice(['prefix','prompt_encoder','prompt_txt','LoRA'],p=[0.3,0.3,0.1,0.3])\n",
    "epochs = 2\n",
    "alpha = np.random.rand()*0.1\n",
    "aug_kwargs = dict(aug_max=np.random.randint(5,30),aug_p=np.random.rand()*0.3)\n",
    "config_class,config_kwargs = get_random_config(config_type,pred_type,TARGET_MODEL)"
   ]
  },
  {
   "cell_type": "code",
   "execution_count": 4,
   "metadata": {},
   "outputs": [
    {
     "data": {
      "text/plain": [
       "('mistralai/Mistral-7B-v0.1',\n",
       " 'LM',\n",
       " 'prompt_encoder',\n",
       " 2,\n",
       " 0.062106462840014615,\n",
       " {'aug_max': 5, 'aug_p': 0.24790752224309548},\n",
       " peft.tuners.p_tuning.config.PromptEncoderConfig,\n",
       " {'task_type': 'CAUSAL_LM',\n",
       "  'num_virtual_tokens': 24,\n",
       "  'encoder_hidden_size': 6144,\n",
       "  'encoder_dropout': 0.1083069583384407,\n",
       "  'encoder_num_layers': 2,\n",
       "  'encoder_reparameterization_type': 'MLP'})"
      ]
     },
     "execution_count": 4,
     "metadata": {},
     "output_type": "execute_result"
    }
   ],
   "source": [
    "TARGET_MODEL, pred_type, config_type, epochs, alpha, aug_kwargs, config_class, config_kwargs"
   ]
  },
  {
   "cell_type": "code",
   "execution_count": 5,
   "metadata": {},
   "outputs": [],
   "source": [
    "# load hyper-parameter for inference\n",
    "# with open(save_model_path+'/config.pkl', 'rb') as pickle_file:\n",
    "#     config = pickle.load(pickle_file)\n",
    "# TARGET_MODEL, pred_type, config_type, epochs, alpha, aug_kwargs, config_class, config_kwargs = load_config(config)"
   ]
  },
  {
   "cell_type": "markdown",
   "metadata": {},
   "source": [
    "Data"
   ]
  },
  {
   "cell_type": "code",
   "execution_count": 6,
   "metadata": {},
   "outputs": [],
   "source": [
    "val = pd.read_csv('data/val_data2.csv')\n",
    "train = pd.read_csv('data/train_data2.csv')"
   ]
  },
  {
   "cell_type": "code",
   "execution_count": 7,
   "metadata": {},
   "outputs": [],
   "source": [
    "tokenizer = AutoTokenizer.from_pretrained(TARGET_MODEL)\n",
    "tokenizer.pad_token = tokenizer.eos_token"
   ]
  },
  {
   "cell_type": "code",
   "execution_count": 8,
   "metadata": {},
   "outputs": [],
   "source": [
    "# http://paraphrase.org/#/download\n",
    "# https://github.com/makcedward/nlpaug/blob/master/example/textual_augmenter.ipynb\n",
    "aug = naw.SynonymAug(aug_src='ppdb',model_path='Model/ppdb-2.0-s-all',\n",
    "                     aug_min=1,\n",
    "                     **aug_kwargs)\n",
    "# print(aug.augment(train.text.iloc[3]))"
   ]
  },
  {
   "cell_type": "code",
   "execution_count": 9,
   "metadata": {},
   "outputs": [],
   "source": [
    "if pred_type == 'LM':\n",
    "    prompt = tokenizer.batch_encode_plus(['Is this essay AI-generated, yes or no?'],add_special_tokens=False,return_tensors='pt')\n",
    "    prompt,prompt_mask = prompt['input_ids'],prompt['attention_mask']\n",
    "else:\n",
    "    prompt,prompt_mask = None, None\n",
    "train_data = TxtData(train,aug.augment)\n",
    "train_loader = DataLoader(train_data, batch_size=batch_size, shuffle=True, num_workers=num_workers, \\\n",
    "                        collate_fn=partial(collate_fn,tokenizer=tokenizer,prompt=prompt,prompt_mask=prompt_mask))\n",
    "val_data = InfData(val)\n",
    "val_loader = DataLoader(val_data, batch_size=batch_size*2, shuffle=False, num_workers=num_workers, \\\n",
    "                        collate_fn=partial(collate_inf,tokenizer=tokenizer,prompt=prompt,prompt_mask=prompt_mask))\n",
    "# input_ids,attention_mask, label, score, topic = next(iter(train_loader))"
   ]
  },
  {
   "cell_type": "markdown",
   "metadata": {},
   "source": [
    "Model"
   ]
  },
  {
   "cell_type": "code",
   "execution_count": 10,
   "metadata": {},
   "outputs": [],
   "source": [
    "# Change hidden_states output in modeling_mistral.py\n",
    "# return CausalLMOutputWithPast(\n",
    "#     loss=loss,\n",
    "#     logits=logits,\n",
    "#     past_key_values=outputs.past_key_values,\n",
    "#     hidden_states=outputs.hidden_states,\n",
    "#     hidden_states=hidden_states,\n",
    "#     attentions=outputs.attentions,\n",
    "# )"
   ]
  },
  {
   "cell_type": "code",
   "execution_count": 11,
   "metadata": {},
   "outputs": [],
   "source": [
    "beta_ = 0.25"
   ]
  },
  {
   "cell_type": "code",
   "execution_count": 12,
   "metadata": {},
   "outputs": [
    {
     "data": {
      "application/vnd.jupyter.widget-view+json": {
       "model_id": "32f438887ed64934b55ea33a748afd88",
       "version_major": 2,
       "version_minor": 0
      },
      "text/plain": [
       "Loading checkpoint shards:   0%|          | 0/2 [00:00<?, ?it/s]"
      ]
     },
     "metadata": {},
     "output_type": "display_data"
    }
   ],
   "source": [
    "from torch.nn.utils import clip_grad_value_\n",
    "from transformers import BitsAndBytesConfig\n",
    "from peft import get_peft_model\n",
    "\n",
    "nf4_config = BitsAndBytesConfig(\n",
    "   load_in_4bit=True,\n",
    "   bnb_4bit_quant_type=\"nf4\",\n",
    "   bnb_4bit_use_double_quant=True,\n",
    "   bnb_4bit_compute_dtype=torch.bfloat16\n",
    ")\n",
    "base_class = AutoModelForCausalLM if pred_type == 'LM' else AutoModelForSequenceClassification\n",
    "base_model = base_class.from_pretrained(TARGET_MODEL,quantization_config=nf4_config, \\\n",
    "                                                          device_map={\"\":0},use_flash_attention_2=True)\n",
    "# base_model.config.output_hidden_states = True\n",
    "peft_config = config_class(**config_kwargs)    \n",
    "model = get_peft_model(base_model, peft_config)\n",
    "model.config.pad_token_id = tokenizer.pad_token_id\n",
    "# model.print_trainable_parameters()\n",
    "topicModel = MLP(model.config.hidden_size,14,2,2048,0.1).to('cuda')\n",
    "trainable_params = [param for param in model.parameters() if param.requires_grad] + [param for param in topicModel.parameters()]\n",
    "trainable_names = [name for name,param in model.named_parameters() if param.requires_grad]\n",
    "# optimizer = torch.optim.AdamW(trainable_params,lr = lr,amsgrad=True,weight_decay=6e-3)\n",
    "optimizer = torch.optim.SGD(trainable_params,lr=lr)\n",
    "if pred_type == 'LM':\n",
    "    model_lm = LM(model,tokenizer,config_kwargs.get('num_virtual_tokens', 0),alpha,config_type,topicModel,beta_)\n",
    "else:\n",
    "    model_lm = Classification(model,alpha,topicModel,beta_)"
   ]
  },
  {
   "cell_type": "code",
   "execution_count": 13,
   "metadata": {},
   "outputs": [
    {
     "name": "stdout",
     "output_type": "stream",
     "text": [
      "epoch 0 iter 2047: train loss [0.51312125 4.88887617 2.61168422], test AUC 0.9196633589129136\n",
      "epoch 0 iter 4095: train loss [0.37435149 4.7893359  2.52866569], test AUC 0.947402184343026\n",
      "epoch 0 iter 6143: train loss [0.30847398 4.75231291 2.46624101], test AUC 0.9648511756466783\n",
      "epoch 0 iter 8191: train loss [0.24763642 4.68439277 2.3952445 ], test AUC 0.9666745549435545\n",
      "epoch 0 iter 10239: train loss [0.20372093 4.67411766 2.33690494], test AUC 0.98373295371342\n",
      "epoch 0 iter 12287: train loss [0.17660986 4.63777645 2.27295747], test AUC 0.9833527333084129\n",
      "epoch 0 iter 14335: train loss [0.16162224 4.53318988 2.22300995], test AUC 0.9818157475937003\n",
      "epoch 0 iter 16383: train loss [0.14800488 4.51854777 2.17217724], test AUC 0.9764809932787241\n",
      "epoch 0 iter 18431: train loss [0.15459161 4.50533486 2.17131346], test AUC 0.9847746702788971\n",
      "epoch 0 iter 20479: train loss [0.14892827 4.42968153 2.11478313], test AUC 0.9917728547469343\n",
      "epoch 0 iter 22527: train loss [0.12074839 4.44998099 2.10976942], test AUC 0.9945269961264195\n",
      "epoch 0 iter 24575: train loss [0.11352297 4.42102715 2.06908203], test AUC 0.9904173812858682\n",
      "epoch 0 iter 26623: train loss [0.09199741 4.40416688 2.05793226], test AUC 0.9932151265488421\n",
      "epoch 0 iter 28671: train loss [0.1293693  4.37231908 2.03177567], test AUC 0.9938529442311107\n",
      "epoch 0 iter 30719: train loss [0.11304302 4.41422824 2.03950138], test AUC 0.9927390321903111\n",
      "epoch 0 iter 32767: train loss [0.0874426  4.4181763  2.02558108], test AUC 0.9929792288567908\n",
      "epoch 0 iter 34815: train loss [0.09629934 4.44064194 2.04419875], test AUC 0.9894149696294515\n",
      "epoch 0 iter 36863: train loss [0.09641205 4.48466572 2.05048953], test AUC 0.9891642643588134\n",
      "epoch 0 iter 38911: train loss [0.08028763 4.56719262 2.08248784], test AUC 0.992680757203614\n",
      "epoch 1 iter 2047: train loss [0.06889479 4.59784736 2.08165809], test AUC 0.9900785129206019\n",
      "epoch 1 iter 4095: train loss [0.06161362 4.62689628 2.07884036], test AUC 0.9891734764468745\n",
      "epoch 1 iter 6143: train loss [0.08651035 4.59760712 2.05738691], test AUC 0.991572167702583\n",
      "epoch 1 iter 8191: train loss [0.09325536 4.63794339 2.08253343], test AUC 0.9945622750118086\n",
      "epoch 1 iter 10239: train loss [0.06193746 4.66562694 2.08174728], test AUC 0.9939381731050974\n",
      "epoch 1 iter 12287: train loss [0.06042749 4.7476814  2.09135522], test AUC 0.9944933549455743\n",
      "epoch 1 iter 14335: train loss [0.08111684 4.67681753 2.08601871], test AUC 0.9937692165862895\n",
      "epoch 1 iter 16383: train loss [0.07589232 4.69813961 2.0979524 ], test AUC 0.9927322766590663\n",
      "epoch 1 iter 18431: train loss [0.06290983 4.69431336 2.07610323], test AUC 0.9934500689132425\n",
      "epoch 1 iter 20479: train loss [0.06001951 4.78466179 2.11789279], test AUC 0.9944951291254972\n",
      "epoch 1 iter 22527: train loss [0.09935914 4.73787408 2.08461227], test AUC 0.9944935596586423\n",
      "epoch 1 iter 24575: train loss [0.06557846 4.7837286  2.1014938 ], test AUC 0.9938349294811246\n",
      "epoch 1 iter 26623: train loss [0.05557329 4.8086517  2.09979528], test AUC 0.9940385507461177\n",
      "epoch 1 iter 28671: train loss [0.07599826 4.82081324 2.10780305], test AUC 0.9950564523580148\n",
      "epoch 1 iter 30719: train loss [0.06559812 4.83296398 2.11001561], test AUC 0.9941532583018997\n",
      "epoch 1 iter 32767: train loss [0.07798513 4.88033703 2.12640839], test AUC 0.9924562552056828\n",
      "epoch 1 iter 34815: train loss [0.0635712  4.89556374 2.15345957], test AUC 0.9954619889457672\n",
      "epoch 1 iter 36863: train loss [0.06215152 4.91235687 2.1511557 ], test AUC 0.9935357072133651\n",
      "epoch 1 iter 38911: train loss [0.09069872 4.91436784 2.14629772], test AUC 0.9932686931349745\n"
     ]
    }
   ],
   "source": [
    "loss_fn = nn.BCEWithLogitsLoss()\n",
    "loss_fct = torch.nn.CrossEntropyLoss()\n",
    "best_auc = 0\n",
    "topicModel.train()\n",
    "for epoch in range(epochs):\n",
    "    model.train()\n",
    "    train_loss = np.zeros(3)\n",
    "    skip = 0\n",
    "    for i, (input_ids,attention_mask, label, score, topic) in enumerate(train_loader):\n",
    "        # train\n",
    "        input_ids,attention_mask, label, score, topic = input_ids.to('cuda'),attention_mask.to('cuda'), label.to('cuda'), score.to('cuda'), topic.to('cuda')\n",
    "        loss,loss_tuple = model_lm.get_loss(input_ids,attention_mask, label, score,topic)\n",
    "        if math.isinf(loss.item()) or math.isnan(loss.item()):\n",
    "            skip += 1\n",
    "            continue\n",
    "\n",
    "        loss.backward()\n",
    "        train_loss += np.array(loss_tuple)\n",
    "        # print(i,train_loss)\n",
    "        if (i + 1) % accumulation_steps == 0:\n",
    "            clip_grad_value_(trainable_params,clip)\n",
    "            optimizer.step()\n",
    "            optimizer.zero_grad()\n",
    "\n",
    "        # eval    \n",
    "        if (i + 1) % verbose == 0:\n",
    "            model.eval()\n",
    "            train_loss /= (verbose-skip)\n",
    "            yhat = []\n",
    "            for input_ids,attention_mask in val_loader:\n",
    "                input_ids,attention_mask = input_ids.to('cuda'),attention_mask.to('cuda')\n",
    "                out = model_lm.predict(input_ids,attention_mask).detach().cpu().numpy()\n",
    "                yhat.append(out)\n",
    "            yhat = np.concatenate(yhat)\n",
    "            auc = roc_auc_score(val.label.to_numpy(), yhat)\n",
    "            print(f\"epoch {epoch} iter {i}: train loss {train_loss}, test AUC {auc}\")\n",
    "            if auc > best_auc:\n",
    "                best_auc = auc\n",
    "                torch.save({k: v for k, v in model.state_dict().items() if k in trainable_names}, save_model_path+'/weights.pth')\n",
    "            train_loss = np.zeros(3)\n",
    "            skip = 0\n",
    "            model.train()"
   ]
  },
  {
   "cell_type": "code",
   "execution_count": 14,
   "metadata": {},
   "outputs": [],
   "source": [
    "# save config and local score\n",
    "config = save_config(TARGET_MODEL, pred_type, config_type, epochs, alpha, aug_kwargs, config_kwargs)\n",
    "config['local auc'] = best_auc\n",
    "with open(save_model_path+'/config.pkl', 'wb') as pickle_file:\n",
    "    pickle.dump(config, pickle_file)"
   ]
  },
  {
   "cell_type": "markdown",
   "metadata": {},
   "source": [
    "Inference"
   ]
  },
  {
   "cell_type": "code",
   "execution_count": 15,
   "metadata": {},
   "outputs": [],
   "source": [
    "# from transformers import AutoTokenizer, AutoModelForSequenceClassification,AutoModelForCausalLM\n",
    "# import torch.nn as nn\n",
    "# import pandas as pd\n",
    "# import numpy as np\n",
    "# import math\n",
    "# import pickle\n",
    "# from sklearn.metrics import roc_auc_score\n",
    "# import nlpaug.augmenter.word as naw\n",
    "# from functools import partial\n",
    "# from functions import *\n",
    "# import os\n",
    "# os.environ[\"TOKENIZERS_PARALLELISM\"] = \"false\"\n",
    "# batch_size = 1\n",
    "# num_workers = 16\n",
    "# accumulation_steps = 64\n",
    "# verbose = 2048\n",
    "# lr = 8e-5\n",
    "# clip = 8e-3\n",
    "\n",
    "# save_model_path = 'Model/model03'\n",
    "# device = 'cuda'\n",
    "# # load hyper-parameter for inference\n",
    "# with open(save_model_path+'/config.pkl', 'rb') as pickle_file:\n",
    "#     config = pickle.load(pickle_file)\n",
    "# TARGET_MODEL, pred_type, config_type, epochs, alpha, aug_kwargs, config_class, config_kwargs = load_config(config)\n",
    "\n",
    "# val = pd.read_csv('data/val_data.csv')\n",
    "# tokenizer = AutoTokenizer.from_pretrained(TARGET_MODEL)\n",
    "# tokenizer.pad_token = tokenizer.eos_token\n",
    "# if pred_type == 'LM':\n",
    "#     prompt = tokenizer.batch_encode_plus(['Is this essay AI-generated, yes or no?'],add_special_tokens=False,return_tensors='pt')\n",
    "#     prompt,prompt_mask = prompt['input_ids'],prompt['attention_mask']\n",
    "# else:\n",
    "#     prompt,prompt_mask = None, None\n",
    "# val_data = InfData(val)\n",
    "# val_loader = DataLoader(val_data, batch_size=batch_size*4, shuffle=False, num_workers=num_workers, \\\n",
    "#                         collate_fn=partial(collate_inf,tokenizer=tokenizer,prompt=prompt,prompt_mask=prompt_mask))\n",
    "# # input_ids,attention_mask, label, score = next(iter(train_loader))\n",
    "\n",
    "# from torch.nn.utils import clip_grad_value_\n",
    "# from transformers import BitsAndBytesConfig\n",
    "# from peft import get_peft_model\n",
    "\n",
    "# nf4_config = BitsAndBytesConfig(\n",
    "#    load_in_4bit=True,\n",
    "#    bnb_4bit_quant_type=\"nf4\",\n",
    "#    bnb_4bit_use_double_quant=True,\n",
    "#    bnb_4bit_compute_dtype=torch.bfloat16\n",
    "# )\n",
    "# base_class = AutoModelForCausalLM if pred_type == 'LM' else AutoModelForSequenceClassification\n",
    "# base_model = base_class.from_pretrained(TARGET_MODEL,quantization_config=nf4_config, \\\n",
    "#                                                           device_map={\"\":0},use_flash_attention_2=True)\n",
    "# peft_config = config_class(**config_kwargs)    \n",
    "# model = get_peft_model(base_model, peft_config)\n",
    "# model.config.pad_token_id = tokenizer.pad_token_id\n",
    "\n",
    "# model.load_state_dict(torch.load(save_model_path+'/weights.pth'),strict=False)\n",
    "# model = model.half()\n",
    "# if pred_type == 'LM':\n",
    "#     model_lm = LM(model,tokenizer,config_kwargs.get('num_virtual_tokens', 0),alpha,config_type)\n",
    "# else:\n",
    "#     model_lm = Classification(model,alpha)\n",
    "\n",
    "# yhat = []\n",
    "# for input_ids,attention_mask in val_loader:\n",
    "#     input_ids,attention_mask = input_ids.to('cuda'),attention_mask.to('cuda')\n",
    "#     out = model_lm.predict(input_ids,attention_mask).detach().cpu().numpy()\n",
    "#     yhat.append(out)\n",
    "# yhat = np.concatenate(yhat)\n",
    "# auc = roc_auc_score(val.label.to_numpy(), yhat)\n",
    "# print(auc)"
   ]
  },
  {
   "cell_type": "code",
   "execution_count": null,
   "metadata": {},
   "outputs": [],
   "source": []
  }
 ],
 "metadata": {
  "kernelspec": {
   "display_name": "base",
   "language": "python",
   "name": "python3"
  },
  "language_info": {
   "codemirror_mode": {
    "name": "ipython",
    "version": 3
   },
   "file_extension": ".py",
   "mimetype": "text/x-python",
   "name": "python",
   "nbconvert_exporter": "python",
   "pygments_lexer": "ipython3",
   "version": "3.10.9"
  }
 },
 "nbformat": 4,
 "nbformat_minor": 2
}
