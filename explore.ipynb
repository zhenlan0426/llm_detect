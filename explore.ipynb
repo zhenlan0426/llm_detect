{
 "cells": [
  {
   "cell_type": "code",
   "execution_count": 1,
   "metadata": {},
   "outputs": [],
   "source": [
    "import pandas as pd\n",
    "import numpy as np"
   ]
  },
  {
   "cell_type": "code",
   "execution_count": 2,
   "metadata": {},
   "outputs": [],
   "source": [
    "# train_prompts = pd.read_csv('data/train_prompts.csv')\n",
    "# train_essays = pd.read_csv('data/train_essays.csv')\n",
    "train_drcat_01 = pd.read_csv('data/train_drcat_01.csv',usecols=['text', 'label','source'])\n",
    "train_drcat_02 = pd.read_csv('data/train_drcat_02.csv',usecols=['text', 'label','source'])\n",
    "train_drcat_03 = pd.read_csv('data/train_drcat_03.csv',usecols=['text', 'label','source'])\n",
    "train_drcat_04 = pd.read_csv('data/train_drcat_04.csv',usecols=['text', 'label','source'])\n",
    "data = pd.concat([train_drcat_01,train_drcat_02,train_drcat_03,train_drcat_04],axis=0)\n",
    "data = data.drop_duplicates(subset='text') # this data is 3-fold data\n",
    "data = data.loc[data.source!='persuade_corpus'] # will join in separately with score\n",
    "data = data.loc[data.source!='radek_500'] # will join in separately with 200 GPT4 and kept as validation"
   ]
  },
  {
   "cell_type": "code",
   "execution_count": 3,
   "metadata": {},
   "outputs": [],
   "source": [
    "persuade = pd.read_csv('data/persuade_2.0_human_scores_demo_id_github.csv',usecols=['full_text', 'holistic_essay_score'])\n",
    "persuade = persuade.rename(columns={'full_text': 'text',\n",
    "                                    'holistic_essay_score': 'score',\n",
    "                                })\n",
    "persuade['source'] = 'persuade_corpus'\n",
    "persuade['label'] = 0"
   ]
  },
  {
   "cell_type": "code",
   "execution_count": 4,
   "metadata": {},
   "outputs": [],
   "source": [
    "chatgpt = pd.read_csv('data/ai_generated_train_essays.csv',usecols=['text'])\n",
    "gpt4 = pd.read_csv('data/ai_generated_train_essays_gpt-4.csv',usecols=['text'])\n",
    "chatgpt['source'] = 'chatgpt'\n",
    "chatgpt['label'] = 1\n",
    "gpt4['source'] = 'gpt4'\n",
    "gpt4['label'] = 1"
   ]
  },
  {
   "cell_type": "code",
   "execution_count": 5,
   "metadata": {},
   "outputs": [],
   "source": [
    "data_all = pd.concat([data,persuade,chatgpt,gpt4],axis=0)"
   ]
  },
  {
   "cell_type": "code",
   "execution_count": 6,
   "metadata": {},
   "outputs": [],
   "source": [
    "data_all.score = data_all.score.fillna(-1)"
   ]
  },
  {
   "cell_type": "code",
   "execution_count": 7,
   "metadata": {},
   "outputs": [
    {
     "data": {
      "text/plain": [
       "score  source               \n",
       "-1.0   chat_gpt_moth            2421\n",
       "       chatgpt                   500\n",
       "       darragh_claude_v6        1000\n",
       "       darragh_claude_v7        1000\n",
       "       falcon_180b_v1           1055\n",
       "       gpt4                      200\n",
       "       llama2_chat              2421\n",
       "       llama_70b_v1             1172\n",
       "       llammistral7binstruct    2421\n",
       "       mistral7binstruct_v2     2421\n",
       "       original_moth            2370\n",
       "       train_essays             1378\n",
       " 1.0   persuade_corpus          1028\n",
       " 2.0   persuade_corpus          5699\n",
       " 3.0   persuade_corpus          8368\n",
       " 4.0   persuade_corpus          6731\n",
       " 5.0   persuade_corpus          3297\n",
       " 6.0   persuade_corpus           873\n",
       "Name: text, dtype: int64"
      ]
     },
     "execution_count": 7,
     "metadata": {},
     "output_type": "execute_result"
    }
   ],
   "source": [
    "data_all.groupby(['score','source']).text.count()"
   ]
  },
  {
   "cell_type": "code",
   "execution_count": 8,
   "metadata": {},
   "outputs": [
    {
     "data": {
      "text/plain": [
       "label  source               \n",
       "0      original_moth             2370\n",
       "       persuade_corpus          25996\n",
       "       train_essays              1375\n",
       "1      chat_gpt_moth             2421\n",
       "       chatgpt                    500\n",
       "       darragh_claude_v6         1000\n",
       "       darragh_claude_v7         1000\n",
       "       falcon_180b_v1            1055\n",
       "       gpt4                       200\n",
       "       llama2_chat               2421\n",
       "       llama_70b_v1              1172\n",
       "       llammistral7binstruct     2421\n",
       "       mistral7binstruct_v2      2421\n",
       "       train_essays                 3\n",
       "Name: text, dtype: int64"
      ]
     },
     "execution_count": 8,
     "metadata": {},
     "output_type": "execute_result"
    }
   ],
   "source": [
    "data_all.groupby(['label','source']).text.count()"
   ]
  },
  {
   "cell_type": "code",
   "execution_count": 10,
   "metadata": {},
   "outputs": [],
   "source": [
    "# split by topics\n",
    "val = data_all.loc[data_all.source.isin(['train_essays','chatgpt','gpt4'])]\n",
    "train = data_all.loc[~data_all.source.isin(['train_essays','chatgpt','gpt4'])]"
   ]
  },
  {
   "cell_type": "code",
   "execution_count": 8,
   "metadata": {},
   "outputs": [],
   "source": [
    "val.to_csv('data/val_data.csv',index=False)\n",
    "train.to_csv('data/train_data.csv',index=False)"
   ]
  },
  {
   "cell_type": "code",
   "execution_count": null,
   "metadata": {},
   "outputs": [],
   "source": []
  },
  {
   "cell_type": "code",
   "execution_count": 9,
   "metadata": {},
   "outputs": [],
   "source": [
    "val = pd.read_csv('data/val_data.csv')\n",
    "train = pd.read_csv('data/train_data.csv')"
   ]
  },
  {
   "cell_type": "code",
   "execution_count": null,
   "metadata": {},
   "outputs": [],
   "source": []
  }
 ],
 "metadata": {
  "kernelspec": {
   "display_name": "base",
   "language": "python",
   "name": "python3"
  },
  "language_info": {
   "codemirror_mode": {
    "name": "ipython",
    "version": 3
   },
   "file_extension": ".py",
   "mimetype": "text/x-python",
   "name": "python",
   "nbconvert_exporter": "python",
   "pygments_lexer": "ipython3",
   "version": "3.10.9"
  }
 },
 "nbformat": 4,
 "nbformat_minor": 2
}
