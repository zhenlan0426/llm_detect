{
 "cells": [
  {
   "cell_type": "code",
   "execution_count": 1,
   "metadata": {},
   "outputs": [],
   "source": [
    "from transformers import AutoTokenizer, MistralForCausalLM\n",
    "import pandas as pd\n",
    "import math\n",
    "import numpy as np\n",
    "from sklearn.metrics import roc_auc_score\n",
    "import nlpaug.augmenter.word as naw\n",
    "from functools import partial\n",
    "from functions import *\n",
    "import os\n",
    "os.environ[\"TOKENIZERS_PARALLELISM\"] = \"false\""
   ]
  },
  {
   "cell_type": "code",
   "execution_count": 2,
   "metadata": {},
   "outputs": [],
   "source": [
    "batch_size = 1\n",
    "num_workers = 16\n",
    "TARGET_MODEL = \"mistralai/Mistral-7B-v0.1\"\n",
    "save_model_path = 'Model/prompt01'\n",
    "if not os.path.exists(save_model_path):\n",
    "    os.makedirs(save_model_path)\n",
    "device = 'cuda'"
   ]
  },
  {
   "cell_type": "markdown",
   "metadata": {},
   "source": [
    "Data"
   ]
  },
  {
   "cell_type": "code",
   "execution_count": 3,
   "metadata": {},
   "outputs": [],
   "source": [
    "val = pd.read_csv('data/val_data.csv')\n",
    "train = pd.read_csv('data/train_data.csv')"
   ]
  },
  {
   "cell_type": "code",
   "execution_count": 4,
   "metadata": {},
   "outputs": [],
   "source": [
    "tokenizer = AutoTokenizer.from_pretrained(TARGET_MODEL)\n",
    "tokenizer.pad_token = tokenizer.eos_token"
   ]
  },
  {
   "cell_type": "code",
   "execution_count": 5,
   "metadata": {},
   "outputs": [],
   "source": [
    "# http://paraphrase.org/#/download\n",
    "# https://github.com/makcedward/nlpaug/blob/master/example/textual_augmenter.ipynb\n",
    "aug = naw.SynonymAug(aug_src='ppdb',model_path='Model/ppdb-2.0-s-all',\n",
    "                     aug_min=1,\n",
    "                     aug_max=10,\n",
    "                     aug_p=0.3)\n",
    "# print(aug.augment(train.text.iloc[3]))"
   ]
  },
  {
   "cell_type": "code",
   "execution_count": 6,
   "metadata": {},
   "outputs": [],
   "source": [
    "prompt = tokenizer.batch_encode_plus(['Is this essay AI-generated, yes or no?'],add_special_tokens=False,return_tensors='pt')\n",
    "prompt,prompt_mask = prompt['input_ids'],prompt['attention_mask']"
   ]
  },
  {
   "cell_type": "code",
   "execution_count": 7,
   "metadata": {},
   "outputs": [],
   "source": [
    "train_data = TxtData(train,aug.augment)\n",
    "train_loader = DataLoader(train_data, batch_size=batch_size, shuffle=True, num_workers=num_workers, \\\n",
    "                          collate_fn=partial(collate_fn,tokenizer=tokenizer,prompt=prompt,prompt_mask=prompt_mask))\n",
    "val_data = TxtData(val)\n",
    "val_loader = DataLoader(val_data, batch_size=batch_size*2, shuffle=False, num_workers=num_workers, \\\n",
    "                          collate_fn=partial(collate_fn,tokenizer=tokenizer,prompt=prompt,prompt_mask=prompt_mask))\n",
    "# input_ids,attention_mask, label, score = next(iter(train_loader))"
   ]
  },
  {
   "cell_type": "markdown",
   "metadata": {},
   "source": [
    "Model"
   ]
  },
  {
   "cell_type": "code",
   "execution_count": 8,
   "metadata": {},
   "outputs": [],
   "source": [
    "epochs = 1\n",
    "accumulation_steps = 64\n",
    "verbose = 2048\n",
    "lr = 6e-5\n",
    "clip = 6e-3\n",
    "alpha = 0.05\n",
    "num_virtual_tokens = 24"
   ]
  },
  {
   "cell_type": "code",
   "execution_count": 9,
   "metadata": {},
   "outputs": [],
   "source": [
    "from torch.nn.utils import clip_grad_value_\n",
    "from transformers import BitsAndBytesConfig\n",
    "from peft import (\n",
    "    get_peft_model,\n",
    "    PeftType,\n",
    "    PromptEncoderConfig)\n",
    "\n",
    "nf4_config = BitsAndBytesConfig(\n",
    "   load_in_4bit=True,\n",
    "   bnb_4bit_quant_type=\"nf4\",\n",
    "   bnb_4bit_use_double_quant=True,\n",
    "   bnb_4bit_compute_dtype=torch.bfloat16\n",
    ")"
   ]
  },
  {
   "cell_type": "code",
   "execution_count": 10,
   "metadata": {},
   "outputs": [
    {
     "data": {
      "application/vnd.jupyter.widget-view+json": {
       "model_id": "0226f31bdfda4bfc82bc5b26677220aa",
       "version_major": 2,
       "version_minor": 0
      },
      "text/plain": [
       "Loading checkpoint shards:   0%|          | 0/2 [00:00<?, ?it/s]"
      ]
     },
     "metadata": {},
     "output_type": "display_data"
    }
   ],
   "source": [
    "model = MistralForCausalLM.from_pretrained(TARGET_MODEL,quantization_config=nf4_config, \\\n",
    "                                                          device_map={\"\":0},use_flash_attention_2=True)\n",
    "peft_type = PeftType.P_TUNING\n",
    "peft_config = PromptEncoderConfig(task_type=\"SEQ_CLS\", num_virtual_tokens=num_virtual_tokens, \\\n",
    "                                  encoder_hidden_size=4096,encoder_dropout=0.1,\\\n",
    "                                  encoder_num_layers=2,encoder_reparameterization_type='MLP')#'LSTM')\n",
    "model = get_peft_model(model, peft_config)\n",
    "model.config.pad_token_id = tokenizer.pad_token_id\n",
    "# model.print_trainable_parameters()\n",
    "trainable_params = [param for param in model.parameters() if param.requires_grad]\n",
    "# optimizer = torch.optim.AdamW(trainable_params,lr = lr,amsgrad=True,weight_decay=6e-3)\n",
    "optimizer = torch.optim.SGD(trainable_params,lr=lr)"
   ]
  },
  {
   "cell_type": "code",
   "execution_count": 11,
   "metadata": {},
   "outputs": [
    {
     "name": "stdout",
     "output_type": "stream",
     "text": [
      "epoch 0 iter 2047: train loss 0.7619283327585435, test AUC 0.9582149230570284\n",
      "epoch 0 iter 4095: train loss 0.5847224618919427, test AUC 0.9781326781326781\n",
      "epoch 0 iter 6143: train loss 0.4984746943227947, test AUC 0.988303633777318\n",
      "epoch 0 iter 8191: train loss 0.4593877725783386, test AUC 0.9897136945557998\n",
      "epoch 0 iter 10239: train loss 0.4539590508429683, test AUC 0.988551920341394\n",
      "epoch 0 iter 12287: train loss 0.42551859641389456, test AUC 0.9929052114315273\n",
      "epoch 0 iter 14335: train loss 0.3764245851270971, test AUC 0.992956937799043\n",
      "epoch 0 iter 16383: train loss 0.39177124414709397, test AUC 0.9931519462045779\n",
      "epoch 0 iter 18431: train loss 0.3895739618092193, test AUC 0.9952960041381095\n",
      "epoch 0 iter 20479: train loss 0.363270980087691, test AUC 0.9951615155825683\n",
      "epoch 0 iter 22527: train loss 0.3726366659539053, test AUC 0.9955541187120135\n",
      "epoch 0 iter 24575: train loss 0.34093448286148487, test AUC 0.9934835122203544\n",
      "epoch 0 iter 26623: train loss 0.3454834375588689, test AUC 0.9951087546877021\n",
      "epoch 0 iter 28671: train loss 0.3173683793320379, test AUC 0.9934152334152334\n",
      "epoch 0 iter 30719: train loss 0.34187774474412436, test AUC 0.9959762058709427\n",
      "epoch 0 iter 32767: train loss 0.33044490115571534, test AUC 0.9951553084184663\n",
      "epoch 0 iter 34815: train loss 0.33671027644595597, test AUC 0.9958349928876246\n",
      "epoch 0 iter 36863: train loss 0.3240548496323754, test AUC 0.9955173929910772\n",
      "epoch 0 iter 38911: train loss 0.3226450738184212, test AUC 0.9911341006077848\n",
      "epoch 0 iter 40959: train loss 0.3074758734983334, test AUC 0.990961851803957\n"
     ]
    }
   ],
   "source": [
    "loss_fn = nn.BCEWithLogitsLoss()\n",
    "loss_fct = torch.nn.CrossEntropyLoss()\n",
    "best_auc = 0\n",
    "for epoch in range(epochs):\n",
    "    model.train()\n",
    "    train_loss = 0\n",
    "    skip = 0\n",
    "    for i, (input_ids,attention_mask, label, score) in enumerate(train_loader):\n",
    "        # train\n",
    "        input_ids,attention_mask, label, score = input_ids.to('cuda'),attention_mask.to('cuda'), label.to('cuda'), score.to('cuda')\n",
    "        out = model(input_ids=input_ids,attention_mask=attention_mask)\n",
    "        logits = out.logits[:,-1,[5081, 5592]].sum(-1) - out.logits[:,-1,[708, 1770]].sum(-1)\n",
    "        if torch.any(torch.isnan(logits)):\n",
    "            skip += 1\n",
    "            continue\n",
    "        # LM objective\n",
    "        shift_logits = out.logits[..., num_virtual_tokens:-1, :].contiguous()\n",
    "        shift_labels = input_ids[..., 1:].contiguous()\n",
    "        # Flatten the tokens\n",
    "        shift_logits = shift_logits.view(-1, tokenizer.vocab_size)\n",
    "        shift_labels = shift_labels.view(-1)\n",
    "        # Enable model parallelism\n",
    "        shift_labels = shift_labels.to(shift_logits.device)\n",
    "        loss_lm = loss_fct(shift_logits, shift_labels)\n",
    "\n",
    "        loss = loss_fn(logits, label) + loss_lm * alpha\n",
    "        if math.isinf(loss.item()) or math.isnan(loss.item()):\n",
    "            skip += 1\n",
    "            continue\n",
    "\n",
    "        loss.backward()\n",
    "        train_loss += loss.item()\n",
    "        # print(i,train_loss)\n",
    "        if (i + 1) % accumulation_steps == 0:\n",
    "            clip_grad_value_(trainable_params,clip)\n",
    "            optimizer.step()\n",
    "            optimizer.zero_grad()\n",
    "\n",
    "        # eval    \n",
    "        if (i + 1) % verbose == 0:\n",
    "            model.eval()\n",
    "            train_loss /= (verbose-skip)\n",
    "            yhat,y = [],[]\n",
    "            for input_ids,attention_mask, label, score in val_loader:\n",
    "                input_ids,attention_mask = input_ids.to('cuda'),attention_mask.to('cuda')\n",
    "                with torch.no_grad():\n",
    "                    out = model(input_ids=input_ids,attention_mask=attention_mask)\n",
    "                    logits = out.logits[:,-1,[5081, 5592]].sum(-1) - out.logits[:,-1,[708, 1770]].sum(-1)\n",
    "                    out = logits.detach().cpu().numpy()\n",
    "                if np.any(np.isnan(out)):\n",
    "                    continue\n",
    "                yhat.append(out)\n",
    "                y.append(label)\n",
    "            yhat = np.concatenate(yhat)\n",
    "            y = np.concatenate(y)\n",
    "            auc = roc_auc_score(y, yhat)\n",
    "            print(f\"epoch {epoch} iter {i}: train loss {train_loss}, test AUC {auc}\")\n",
    "            if auc > best_auc:\n",
    "                best_auc = auc\n",
    "                torch.save({k: v for k, v in model.state_dict().items() if k in trainable_params}, save_model_path+'/weights.pth')\n",
    "            train_loss = 0\n",
    "            skip = 0\n",
    "            model.train()"
   ]
  },
  {
   "cell_type": "markdown",
   "metadata": {},
   "source": [
    "Save/Load model"
   ]
  },
  {
   "cell_type": "code",
   "execution_count": 12,
   "metadata": {},
   "outputs": [],
   "source": [
    "# only save/load the trainable.\n",
    "# model.load_state_dict(torch.load(save_model_path+'/weights2.pth'),strict=False)"
   ]
  },
  {
   "cell_type": "code",
   "execution_count": 13,
   "metadata": {},
   "outputs": [],
   "source": [
    "# model.base_model.save_pretrained(save_model_path,safe_serialization=False)\n",
    "# model.config.save_pretrained(save_model_path)\n",
    "# model.save_pretrained(save_model_path)\n",
    "# tokenizer.save_pretrained(save_model_path)\n",
    "\n",
    "\n",
    "# from peft import PeftModel\n",
    "# baseModel = MistralForSequenceClassification.from_pretrained(TARGET_MODEL,num_labels=2,quantization_config=nf4_config, \\\n",
    "#                                                           device_map={\"\":0},use_flash_attention_2=True)\n",
    "# peft_type = PeftType.P_TUNING\n",
    "# peft_config = PromptEncoderConfig(task_type=\"SEQ_CLS\", num_virtual_tokens=8, \\\n",
    "#                                   encoder_hidden_size=4096,encoder_dropout=0.1,\\\n",
    "#                                   encoder_num_layers=2,encoder_reparameterization_type='MLP')#'LSTM')\n",
    "# model2 = PeftModel.from_pretrained(baseModel, 'Model/p_tune/adapter',config=peft_config)\n",
    "\n",
    "\n",
    "# import json\n",
    "# with open('Model/p_tune/config.json', 'r') as file:\n",
    "#     config = json.load(file)\n",
    "# from transformers import PretrainedConfig\n",
    "# model = MistralForSequenceClassification(PretrainedConfig(**config))\n",
    "# peft_type = PeftType.P_TUNING\n",
    "# peft_config = PromptEncoderConfig(task_type=\"SEQ_CLS\", num_virtual_tokens=8, \\\n",
    "#                                   encoder_hidden_size=4096,encoder_dropout=0.1,\\\n",
    "#                                   encoder_num_layers=2,encoder_reparameterization_type='MLP')#'LSTM')\n",
    "# model = get_peft_model(model, peft_config)\n",
    "# model.config.pad_token_id = tokenizer.pad_token_id\n",
    "# model.load_state_dict(torch.load('Model/p_tune.pth'))\n",
    "# model = model.to('cuda')"
   ]
  },
  {
   "cell_type": "code",
   "execution_count": null,
   "metadata": {},
   "outputs": [],
   "source": []
  },
  {
   "cell_type": "code",
   "execution_count": 14,
   "metadata": {},
   "outputs": [],
   "source": [
    "# model.eval()\n",
    "# yhat,y = [],[]\n",
    "# for input_ids,attention_mask, label, score in val_loader:\n",
    "#     input_ids,attention_mask = input_ids.to('cuda'),attention_mask.to('cuda')\n",
    "#     with torch.no_grad():\n",
    "#         out = model(input_ids=input_ids,attention_mask=attention_mask).logits[:,0].detach().cpu().numpy()\n",
    "#     if np.any(np.isnan(out)):\n",
    "#         continue\n",
    "#     yhat.append(out)\n",
    "#     y.append(label)\n",
    "# yhat = np.concatenate(yhat)\n",
    "# y = np.concatenate(y)\n",
    "# auc = roc_auc_score(y, yhat)\n",
    "# auc"
   ]
  },
  {
   "cell_type": "code",
   "execution_count": null,
   "metadata": {},
   "outputs": [],
   "source": []
  }
 ],
 "metadata": {
  "kernelspec": {
   "display_name": "base",
   "language": "python",
   "name": "python3"
  },
  "language_info": {
   "codemirror_mode": {
    "name": "ipython",
    "version": 3
   },
   "file_extension": ".py",
   "mimetype": "text/x-python",
   "name": "python",
   "nbconvert_exporter": "python",
   "pygments_lexer": "ipython3",
   "version": "3.10.9"
  }
 },
 "nbformat": 4,
 "nbformat_minor": 2
}
