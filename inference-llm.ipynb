{
 "cells": [
  {
   "cell_type": "code",
   "execution_count": 1,
   "id": "d90b67e8",
   "metadata": {
    "execution": {
     "iopub.execute_input": "2023-11-18T14:33:06.051578Z",
     "iopub.status.busy": "2023-11-18T14:33:06.051227Z",
     "iopub.status.idle": "2023-11-18T14:33:34.117753Z",
     "shell.execute_reply": "2023-11-18T14:33:34.116466Z"
    },
    "papermill": {
     "duration": 28.075301,
     "end_time": "2023-11-18T14:33:34.120377",
     "exception": false,
     "start_time": "2023-11-18T14:33:06.045076",
     "status": "completed"
    },
    "tags": []
   },
   "outputs": [],
   "source": [
    "!pip install -q -U accelerate --no-index --find-links ../input/llm-detect-pip/\n",
    "!pip install -q -U bitsandbytes --no-index --find-links ../input/llm-detect-pip/"
   ]
  },
  {
   "cell_type": "code",
   "execution_count": 2,
   "id": "80bb8466",
   "metadata": {
    "execution": {
     "iopub.execute_input": "2023-11-18T14:33:34.131037Z",
     "iopub.status.busy": "2023-11-18T14:33:34.130631Z",
     "iopub.status.idle": "2023-11-18T14:33:41.787329Z",
     "shell.execute_reply": "2023-11-18T14:33:41.786498Z"
    },
    "papermill": {
     "duration": 7.664484,
     "end_time": "2023-11-18T14:33:41.789618",
     "exception": false,
     "start_time": "2023-11-18T14:33:34.125134",
     "status": "completed"
    },
    "tags": []
   },
   "outputs": [
    {
     "name": "stderr",
     "output_type": "stream",
     "text": [
      "/opt/conda/lib/python3.10/site-packages/scipy/__init__.py:146: UserWarning: A NumPy version >=1.16.5 and <1.23.0 is required for this version of SciPy (detected version 1.24.3\n",
      "  warnings.warn(f\"A NumPy version >={np_minversion} and <{np_maxversion}\"\n"
     ]
    }
   ],
   "source": [
    "import sys\n",
    "sys.path.insert(0,'/kaggle/input/llm-packages')\n",
    "import pandas as pd\n",
    "import numpy as np\n",
    "from functools import partial\n",
    "import pickle\n",
    "from peft import PrefixTuningConfig,PromptEncoderConfig,PromptTuningConfig,LoraConfig,get_peft_model\n",
    "from transformers import AutoTokenizer, AutoModelForSequenceClassification,AutoModelForCausalLM,BitsAndBytesConfig\n",
    "from torch.utils.data import DataLoader\n",
    "from llm_util import *\n",
    "INPUT_DIR = \"../input/\"\n",
    "save_model_path = '/kaggle/input/llm-model'\n",
    "batch_size = 8\n",
    "device = 'cuda'"
   ]
  },
  {
   "cell_type": "code",
   "execution_count": 3,
   "id": "5b74cfed",
   "metadata": {
    "execution": {
     "iopub.execute_input": "2023-11-18T14:33:41.800113Z",
     "iopub.status.busy": "2023-11-18T14:33:41.799627Z",
     "iopub.status.idle": "2023-11-18T14:33:41.805817Z",
     "shell.execute_reply": "2023-11-18T14:33:41.805044Z"
    },
    "papermill": {
     "duration": 0.013423,
     "end_time": "2023-11-18T14:33:41.807694",
     "exception": false,
     "start_time": "2023-11-18T14:33:41.794271",
     "status": "completed"
    },
    "tags": []
   },
   "outputs": [],
   "source": [
    "config_map = {'prefix':PrefixTuningConfig,\n",
    "                'prompt_encoder':PromptEncoderConfig,\n",
    "                'prompt_txt': PromptTuningConfig,\n",
    "                'LoRA': LoraConfig,}\n",
    "\n",
    "\n",
    "def load_config(config_dict):\n",
    "    TARGET_MODEL = config_dict[\"TARGET_MODEL\"]\n",
    "    pred_type = config_dict[\"pred_type\"]\n",
    "    config_type = config_dict[\"config_type\"]\n",
    "    epochs = config_dict[\"epochs\"]\n",
    "    alpha = config_dict[\"alpha\"]\n",
    "    aug_kwargs = config_dict[\"aug_kwargs\"]\n",
    "    config_class = config_map[config_dict[\"config_class\"]]\n",
    "    config_kwargs = config_dict[\"config_kwargs\"]\n",
    "\n",
    "    return TARGET_MODEL, pred_type, config_type, epochs, alpha, aug_kwargs, config_class, config_kwargs"
   ]
  },
  {
   "cell_type": "code",
   "execution_count": 4,
   "id": "2e751a16",
   "metadata": {
    "execution": {
     "iopub.execute_input": "2023-11-18T14:33:41.817532Z",
     "iopub.status.busy": "2023-11-18T14:33:41.817229Z",
     "iopub.status.idle": "2023-11-18T14:33:41.828796Z",
     "shell.execute_reply": "2023-11-18T14:33:41.827810Z"
    },
    "papermill": {
     "duration": 0.019055,
     "end_time": "2023-11-18T14:33:41.830899",
     "exception": false,
     "start_time": "2023-11-18T14:33:41.811844",
     "status": "completed"
    },
    "tags": []
   },
   "outputs": [],
   "source": [
    "# load config for inference\n",
    "import pickle\n",
    "with open(save_model_path+'/config.pkl', 'rb') as pickle_file:\n",
    "    config = pickle.load(pickle_file)\n",
    "TARGET_MODEL, pred_type, config_type, epochs, alpha, aug_kwargs, config_class, config_kwargs = load_config(config)"
   ]
  },
  {
   "cell_type": "code",
   "execution_count": 5,
   "id": "2eae60b6",
   "metadata": {
    "execution": {
     "iopub.execute_input": "2023-11-18T14:33:41.841022Z",
     "iopub.status.busy": "2023-11-18T14:33:41.840682Z",
     "iopub.status.idle": "2023-11-18T14:33:41.844979Z",
     "shell.execute_reply": "2023-11-18T14:33:41.844227Z"
    },
    "papermill": {
     "duration": 0.011444,
     "end_time": "2023-11-18T14:33:41.846862",
     "exception": false,
     "start_time": "2023-11-18T14:33:41.835418",
     "status": "completed"
    },
    "tags": []
   },
   "outputs": [],
   "source": [
    "model_folder_map = {'mistralai/Mistral-7B-v0.1':\"/kaggle/input/mistral-7b-v0-1/Mistral-7B-v0.1\"}"
   ]
  },
  {
   "cell_type": "markdown",
   "id": "e92b0e01",
   "metadata": {
    "papermill": {
     "duration": 0.004016,
     "end_time": "2023-11-18T14:33:41.855023",
     "exception": false,
     "start_time": "2023-11-18T14:33:41.851007",
     "status": "completed"
    },
    "tags": []
   },
   "source": [
    "Data"
   ]
  },
  {
   "cell_type": "code",
   "execution_count": 6,
   "id": "c287ce44",
   "metadata": {
    "execution": {
     "iopub.execute_input": "2023-11-18T14:33:41.865041Z",
     "iopub.status.busy": "2023-11-18T14:33:41.864677Z",
     "iopub.status.idle": "2023-11-18T14:33:42.005939Z",
     "shell.execute_reply": "2023-11-18T14:33:42.005111Z"
    },
    "papermill": {
     "duration": 0.149282,
     "end_time": "2023-11-18T14:33:42.008528",
     "exception": false,
     "start_time": "2023-11-18T14:33:41.859246",
     "status": "completed"
    },
    "tags": []
   },
   "outputs": [],
   "source": [
    "test_df = pd.read_csv(INPUT_DIR + \"llm-detect-ai-generated-text/test_essays.csv\", sep=',')\n",
    "\n",
    "tokenizer = AutoTokenizer.from_pretrained(model_folder_map[TARGET_MODEL])\n",
    "tokenizer.pad_token = tokenizer.eos_token\n",
    "\n",
    "if pred_type == 'LM':\n",
    "    prompt = tokenizer.batch_encode_plus(['Is this essay AI-generated, yes or no?'],add_special_tokens=False,return_tensors='pt')\n",
    "    prompt,prompt_mask = prompt['input_ids'],prompt['attention_mask']\n",
    "else:\n",
    "    prompt,prompt_mask = None, None\n",
    "val_data = InfData(test_df)\n",
    "val_loader = DataLoader(val_data, batch_size=batch_size, shuffle=False,\\\n",
    "                        collate_fn=partial(collate_inf,tokenizer=tokenizer,prompt=prompt,prompt_mask=prompt_mask))"
   ]
  },
  {
   "cell_type": "markdown",
   "id": "b0a4e7b7",
   "metadata": {
    "papermill": {
     "duration": 0.004042,
     "end_time": "2023-11-18T14:33:42.017473",
     "exception": false,
     "start_time": "2023-11-18T14:33:42.013431",
     "status": "completed"
    },
    "tags": []
   },
   "source": [
    "Model"
   ]
  },
  {
   "cell_type": "code",
   "execution_count": 7,
   "id": "5a40137c",
   "metadata": {
    "execution": {
     "iopub.execute_input": "2023-11-18T14:33:42.027745Z",
     "iopub.status.busy": "2023-11-18T14:33:42.027394Z",
     "iopub.status.idle": "2023-11-18T14:35:51.508923Z",
     "shell.execute_reply": "2023-11-18T14:35:51.508052Z"
    },
    "papermill": {
     "duration": 129.489688,
     "end_time": "2023-11-18T14:35:51.511417",
     "exception": false,
     "start_time": "2023-11-18T14:33:42.021729",
     "status": "completed"
    },
    "tags": []
   },
   "outputs": [
    {
     "data": {
      "application/vnd.jupyter.widget-view+json": {
       "model_id": "e5a07674f351489fb5178ed3638cccf5",
       "version_major": 2,
       "version_minor": 0
      },
      "text/plain": [
       "Loading checkpoint shards:   0%|          | 0/2 [00:00<?, ?it/s]"
      ]
     },
     "metadata": {},
     "output_type": "display_data"
    }
   ],
   "source": [
    "nf4_config = BitsAndBytesConfig(\n",
    "   load_in_4bit=True,\n",
    "   bnb_4bit_quant_type=\"nf4\",\n",
    "   bnb_4bit_use_double_quant=True,\n",
    "   bnb_4bit_compute_dtype=torch.bfloat16\n",
    ")\n",
    "base_class = AutoModelForCausalLM if pred_type == 'LM' else AutoModelForSequenceClassification\n",
    "base_model = base_class.from_pretrained(model_folder_map[TARGET_MODEL],quantization_config=nf4_config, \\\n",
    "                                                          device_map={\"\":0})\n",
    "peft_config = config_class(**config_kwargs)    \n",
    "model = get_peft_model(base_model, peft_config)\n",
    "model.config.pad_token_id = tokenizer.pad_token_id\n",
    "\n",
    "model.load_state_dict(torch.load(save_model_path+'/weights.pth'),strict=False)\n",
    "model = model.half()\n",
    "if pred_type == 'LM':\n",
    "    model_lm = LM(model,tokenizer,config_kwargs.get('num_virtual_tokens', 0),alpha,config_type)\n",
    "else:\n",
    "    model_lm = Classification(model,alpha)"
   ]
  },
  {
   "cell_type": "markdown",
   "id": "a30889c4",
   "metadata": {
    "papermill": {
     "duration": 0.004643,
     "end_time": "2023-11-18T14:35:51.521010",
     "exception": false,
     "start_time": "2023-11-18T14:35:51.516367",
     "status": "completed"
    },
    "tags": []
   },
   "source": [
    "Predict"
   ]
  },
  {
   "cell_type": "code",
   "execution_count": 8,
   "id": "d781f246",
   "metadata": {
    "execution": {
     "iopub.execute_input": "2023-11-18T14:35:51.532244Z",
     "iopub.status.busy": "2023-11-18T14:35:51.531284Z",
     "iopub.status.idle": "2023-11-18T14:36:08.479493Z",
     "shell.execute_reply": "2023-11-18T14:36:08.478474Z"
    },
    "papermill": {
     "duration": 16.956563,
     "end_time": "2023-11-18T14:36:08.481991",
     "exception": false,
     "start_time": "2023-11-18T14:35:51.525428",
     "status": "completed"
    },
    "tags": []
   },
   "outputs": [],
   "source": [
    "yhat = []\n",
    "for input_ids,attention_mask in val_loader:\n",
    "    input_ids,attention_mask = input_ids.to('cuda'),attention_mask.to('cuda')\n",
    "    out = model_lm.predict(input_ids,attention_mask).detach().cpu().numpy()\n",
    "    yhat.append(out)\n",
    "yhat = np.concatenate(yhat)"
   ]
  },
  {
   "cell_type": "code",
   "execution_count": 9,
   "id": "e79cebb2",
   "metadata": {
    "execution": {
     "iopub.execute_input": "2023-11-18T14:36:08.492635Z",
     "iopub.status.busy": "2023-11-18T14:36:08.491969Z",
     "iopub.status.idle": "2023-11-18T14:36:08.506703Z",
     "shell.execute_reply": "2023-11-18T14:36:08.505786Z"
    },
    "papermill": {
     "duration": 0.022086,
     "end_time": "2023-11-18T14:36:08.508740",
     "exception": false,
     "start_time": "2023-11-18T14:36:08.486654",
     "status": "completed"
    },
    "tags": []
   },
   "outputs": [],
   "source": [
    "sub = pd.DataFrame()\n",
    "sub['id'] = test_df['id']\n",
    "sub['generated'] = yhat\n",
    "sub.to_csv('submission.csv', index=False)"
   ]
  },
  {
   "cell_type": "code",
   "execution_count": null,
   "id": "0a3dbf7e",
   "metadata": {
    "papermill": {
     "duration": 0.004201,
     "end_time": "2023-11-18T14:36:08.517364",
     "exception": false,
     "start_time": "2023-11-18T14:36:08.513163",
     "status": "completed"
    },
    "tags": []
   },
   "outputs": [],
   "source": []
  }
 ],
 "metadata": {
  "kaggle": {
   "accelerator": "gpu",
   "dataSources": [
    {
     "databundleVersionId": 6888007,
     "sourceId": 61542,
     "sourceType": "competition"
    },
    {
     "datasetId": 3796024,
     "sourceId": 6571530,
     "sourceType": "datasetVersion"
    },
    {
     "datasetId": 3984720,
     "sourceId": 6938950,
     "sourceType": "datasetVersion"
    },
    {
     "datasetId": 3983944,
     "sourceId": 6996130,
     "sourceType": "datasetVersion"
    },
    {
     "sourceId": 148861315,
     "sourceType": "kernelVersion"
    },
    {
     "sourceId": 151262929,
     "sourceType": "kernelVersion"
    }
   ],
   "isGpuEnabled": true,
   "isInternetEnabled": false,
   "language": "python",
   "sourceType": "notebook"
  },
  "kernelspec": {
   "display_name": "Python 3",
   "language": "python",
   "name": "python3"
  },
  "language_info": {
   "codemirror_mode": {
    "name": "ipython",
    "version": 3
   },
   "file_extension": ".py",
   "mimetype": "text/x-python",
   "name": "python",
   "nbconvert_exporter": "python",
   "pygments_lexer": "ipython3",
   "version": "3.10.12"
  },
  "papermill": {
   "default_parameters": {},
   "duration": 189.657282,
   "end_time": "2023-11-18T14:36:12.203769",
   "environment_variables": {},
   "exception": null,
   "input_path": "__notebook__.ipynb",
   "output_path": "__notebook__.ipynb",
   "parameters": {},
   "start_time": "2023-11-18T14:33:02.546487",
   "version": "2.4.0"
  },
  "widgets": {
   "application/vnd.jupyter.widget-state+json": {
    "state": {
     "1695a91fe06e421eb6c80ea3fb0b5343": {
      "model_module": "@jupyter-widgets/base",
      "model_module_version": "1.2.0",
      "model_name": "LayoutModel",
      "state": {
       "_model_module": "@jupyter-widgets/base",
       "_model_module_version": "1.2.0",
       "_model_name": "LayoutModel",
       "_view_count": null,
       "_view_module": "@jupyter-widgets/base",
       "_view_module_version": "1.2.0",
       "_view_name": "LayoutView",
       "align_content": null,
       "align_items": null,
       "align_self": null,
       "border": null,
       "bottom": null,
       "display": null,
       "flex": null,
       "flex_flow": null,
       "grid_area": null,
       "grid_auto_columns": null,
       "grid_auto_flow": null,
       "grid_auto_rows": null,
       "grid_column": null,
       "grid_gap": null,
       "grid_row": null,
       "grid_template_areas": null,
       "grid_template_columns": null,
       "grid_template_rows": null,
       "height": null,
       "justify_content": null,
       "justify_items": null,
       "left": null,
       "margin": null,
       "max_height": null,
       "max_width": null,
       "min_height": null,
       "min_width": null,
       "object_fit": null,
       "object_position": null,
       "order": null,
       "overflow": null,
       "overflow_x": null,
       "overflow_y": null,
       "padding": null,
       "right": null,
       "top": null,
       "visibility": null,
       "width": null
      }
     },
     "2f3917f7adca41b594d1175ef8b66ea9": {
      "model_module": "@jupyter-widgets/base",
      "model_module_version": "1.2.0",
      "model_name": "LayoutModel",
      "state": {
       "_model_module": "@jupyter-widgets/base",
       "_model_module_version": "1.2.0",
       "_model_name": "LayoutModel",
       "_view_count": null,
       "_view_module": "@jupyter-widgets/base",
       "_view_module_version": "1.2.0",
       "_view_name": "LayoutView",
       "align_content": null,
       "align_items": null,
       "align_self": null,
       "border": null,
       "bottom": null,
       "display": null,
       "flex": null,
       "flex_flow": null,
       "grid_area": null,
       "grid_auto_columns": null,
       "grid_auto_flow": null,
       "grid_auto_rows": null,
       "grid_column": null,
       "grid_gap": null,
       "grid_row": null,
       "grid_template_areas": null,
       "grid_template_columns": null,
       "grid_template_rows": null,
       "height": null,
       "justify_content": null,
       "justify_items": null,
       "left": null,
       "margin": null,
       "max_height": null,
       "max_width": null,
       "min_height": null,
       "min_width": null,
       "object_fit": null,
       "object_position": null,
       "order": null,
       "overflow": null,
       "overflow_x": null,
       "overflow_y": null,
       "padding": null,
       "right": null,
       "top": null,
       "visibility": null,
       "width": null
      }
     },
     "4a225b9bbf014ef49b490ee533f0cff4": {
      "model_module": "@jupyter-widgets/base",
      "model_module_version": "1.2.0",
      "model_name": "LayoutModel",
      "state": {
       "_model_module": "@jupyter-widgets/base",
       "_model_module_version": "1.2.0",
       "_model_name": "LayoutModel",
       "_view_count": null,
       "_view_module": "@jupyter-widgets/base",
       "_view_module_version": "1.2.0",
       "_view_name": "LayoutView",
       "align_content": null,
       "align_items": null,
       "align_self": null,
       "border": null,
       "bottom": null,
       "display": null,
       "flex": null,
       "flex_flow": null,
       "grid_area": null,
       "grid_auto_columns": null,
       "grid_auto_flow": null,
       "grid_auto_rows": null,
       "grid_column": null,
       "grid_gap": null,
       "grid_row": null,
       "grid_template_areas": null,
       "grid_template_columns": null,
       "grid_template_rows": null,
       "height": null,
       "justify_content": null,
       "justify_items": null,
       "left": null,
       "margin": null,
       "max_height": null,
       "max_width": null,
       "min_height": null,
       "min_width": null,
       "object_fit": null,
       "object_position": null,
       "order": null,
       "overflow": null,
       "overflow_x": null,
       "overflow_y": null,
       "padding": null,
       "right": null,
       "top": null,
       "visibility": null,
       "width": null
      }
     },
     "88413cabbe5f4d45be2622eb970939b3": {
      "model_module": "@jupyter-widgets/controls",
      "model_module_version": "1.5.0",
      "model_name": "HTMLModel",
      "state": {
       "_dom_classes": [],
       "_model_module": "@jupyter-widgets/controls",
       "_model_module_version": "1.5.0",
       "_model_name": "HTMLModel",
       "_view_count": null,
       "_view_module": "@jupyter-widgets/controls",
       "_view_module_version": "1.5.0",
       "_view_name": "HTMLView",
       "description": "",
       "description_tooltip": null,
       "layout": "IPY_MODEL_1695a91fe06e421eb6c80ea3fb0b5343",
       "placeholder": "​",
       "style": "IPY_MODEL_aa9f79dd82ad46df9bf2f54cf1f2f5f7",
       "value": " 2/2 [02:03&lt;00:00, 58.00s/it]"
      }
     },
     "aa9f79dd82ad46df9bf2f54cf1f2f5f7": {
      "model_module": "@jupyter-widgets/controls",
      "model_module_version": "1.5.0",
      "model_name": "DescriptionStyleModel",
      "state": {
       "_model_module": "@jupyter-widgets/controls",
       "_model_module_version": "1.5.0",
       "_model_name": "DescriptionStyleModel",
       "_view_count": null,
       "_view_module": "@jupyter-widgets/base",
       "_view_module_version": "1.2.0",
       "_view_name": "StyleView",
       "description_width": ""
      }
     },
     "c60b439e539f48458db24ade716e65a0": {
      "model_module": "@jupyter-widgets/base",
      "model_module_version": "1.2.0",
      "model_name": "LayoutModel",
      "state": {
       "_model_module": "@jupyter-widgets/base",
       "_model_module_version": "1.2.0",
       "_model_name": "LayoutModel",
       "_view_count": null,
       "_view_module": "@jupyter-widgets/base",
       "_view_module_version": "1.2.0",
       "_view_name": "LayoutView",
       "align_content": null,
       "align_items": null,
       "align_self": null,
       "border": null,
       "bottom": null,
       "display": null,
       "flex": null,
       "flex_flow": null,
       "grid_area": null,
       "grid_auto_columns": null,
       "grid_auto_flow": null,
       "grid_auto_rows": null,
       "grid_column": null,
       "grid_gap": null,
       "grid_row": null,
       "grid_template_areas": null,
       "grid_template_columns": null,
       "grid_template_rows": null,
       "height": null,
       "justify_content": null,
       "justify_items": null,
       "left": null,
       "margin": null,
       "max_height": null,
       "max_width": null,
       "min_height": null,
       "min_width": null,
       "object_fit": null,
       "object_position": null,
       "order": null,
       "overflow": null,
       "overflow_x": null,
       "overflow_y": null,
       "padding": null,
       "right": null,
       "top": null,
       "visibility": null,
       "width": null
      }
     },
     "ce74f2b88004483aabdb67a6141f9f9d": {
      "model_module": "@jupyter-widgets/controls",
      "model_module_version": "1.5.0",
      "model_name": "ProgressStyleModel",
      "state": {
       "_model_module": "@jupyter-widgets/controls",
       "_model_module_version": "1.5.0",
       "_model_name": "ProgressStyleModel",
       "_view_count": null,
       "_view_module": "@jupyter-widgets/base",
       "_view_module_version": "1.2.0",
       "_view_name": "StyleView",
       "bar_color": null,
       "description_width": ""
      }
     },
     "de2301224b314b0eb9970af33e35c887": {
      "model_module": "@jupyter-widgets/controls",
      "model_module_version": "1.5.0",
      "model_name": "FloatProgressModel",
      "state": {
       "_dom_classes": [],
       "_model_module": "@jupyter-widgets/controls",
       "_model_module_version": "1.5.0",
       "_model_name": "FloatProgressModel",
       "_view_count": null,
       "_view_module": "@jupyter-widgets/controls",
       "_view_module_version": "1.5.0",
       "_view_name": "ProgressView",
       "bar_style": "success",
       "description": "",
       "description_tooltip": null,
       "layout": "IPY_MODEL_2f3917f7adca41b594d1175ef8b66ea9",
       "max": 2.0,
       "min": 0.0,
       "orientation": "horizontal",
       "style": "IPY_MODEL_ce74f2b88004483aabdb67a6141f9f9d",
       "value": 2.0
      }
     },
     "ded4e63f7a134b76a2e1615b061ff041": {
      "model_module": "@jupyter-widgets/controls",
      "model_module_version": "1.5.0",
      "model_name": "HTMLModel",
      "state": {
       "_dom_classes": [],
       "_model_module": "@jupyter-widgets/controls",
       "_model_module_version": "1.5.0",
       "_model_name": "HTMLModel",
       "_view_count": null,
       "_view_module": "@jupyter-widgets/controls",
       "_view_module_version": "1.5.0",
       "_view_name": "HTMLView",
       "description": "",
       "description_tooltip": null,
       "layout": "IPY_MODEL_c60b439e539f48458db24ade716e65a0",
       "placeholder": "​",
       "style": "IPY_MODEL_e01a12c22c8c473ca7a9d82ab8c892f3",
       "value": "Loading checkpoint shards: 100%"
      }
     },
     "e01a12c22c8c473ca7a9d82ab8c892f3": {
      "model_module": "@jupyter-widgets/controls",
      "model_module_version": "1.5.0",
      "model_name": "DescriptionStyleModel",
      "state": {
       "_model_module": "@jupyter-widgets/controls",
       "_model_module_version": "1.5.0",
       "_model_name": "DescriptionStyleModel",
       "_view_count": null,
       "_view_module": "@jupyter-widgets/base",
       "_view_module_version": "1.2.0",
       "_view_name": "StyleView",
       "description_width": ""
      }
     },
     "e5a07674f351489fb5178ed3638cccf5": {
      "model_module": "@jupyter-widgets/controls",
      "model_module_version": "1.5.0",
      "model_name": "HBoxModel",
      "state": {
       "_dom_classes": [],
       "_model_module": "@jupyter-widgets/controls",
       "_model_module_version": "1.5.0",
       "_model_name": "HBoxModel",
       "_view_count": null,
       "_view_module": "@jupyter-widgets/controls",
       "_view_module_version": "1.5.0",
       "_view_name": "HBoxView",
       "box_style": "",
       "children": [
        "IPY_MODEL_ded4e63f7a134b76a2e1615b061ff041",
        "IPY_MODEL_de2301224b314b0eb9970af33e35c887",
        "IPY_MODEL_88413cabbe5f4d45be2622eb970939b3"
       ],
       "layout": "IPY_MODEL_4a225b9bbf014ef49b490ee533f0cff4"
      }
     }
    },
    "version_major": 2,
    "version_minor": 0
   }
  }
 },
 "nbformat": 4,
 "nbformat_minor": 5
}
