{
 "cells": [
  {
   "cell_type": "code",
   "execution_count": 1,
   "metadata": {},
   "outputs": [],
   "source": [
    "from transformers import AutoTokenizer, MistralForCausalLM\n",
    "import pandas as pd\n",
    "import math\n",
    "import numpy as np\n",
    "from sklearn.metrics import roc_auc_score\n",
    "import nlpaug.augmenter.word as naw\n",
    "from functools import partial\n",
    "from functions import *\n",
    "import os\n",
    "os.environ[\"TOKENIZERS_PARALLELISM\"] = \"false\""
   ]
  },
  {
   "cell_type": "code",
   "execution_count": 2,
   "metadata": {},
   "outputs": [],
   "source": [
    "batch_size = 1\n",
    "num_workers = 16\n",
    "TARGET_MODEL = \"mistralai/Mistral-7B-v0.1\"\n",
    "save_model_path = 'Model/prompt02'\n",
    "if not os.path.exists(save_model_path):\n",
    "    os.makedirs(save_model_path)\n",
    "device = 'cuda'"
   ]
  },
  {
   "cell_type": "markdown",
   "metadata": {},
   "source": [
    "Data"
   ]
  },
  {
   "cell_type": "code",
   "execution_count": 3,
   "metadata": {},
   "outputs": [],
   "source": [
    "val = pd.read_csv('data/val_data.csv')\n",
    "train = pd.read_csv('data/train_data.csv')"
   ]
  },
  {
   "cell_type": "code",
   "execution_count": 4,
   "metadata": {},
   "outputs": [],
   "source": [
    "tokenizer = AutoTokenizer.from_pretrained(TARGET_MODEL)\n",
    "tokenizer.pad_token = tokenizer.eos_token"
   ]
  },
  {
   "cell_type": "code",
   "execution_count": 5,
   "metadata": {},
   "outputs": [],
   "source": [
    "# http://paraphrase.org/#/download\n",
    "# https://github.com/makcedward/nlpaug/blob/master/example/textual_augmenter.ipynb\n",
    "aug = naw.SynonymAug(aug_src='ppdb',model_path='Model/ppdb-2.0-s-all',\n",
    "                     aug_min=1,\n",
    "                     aug_max=10,\n",
    "                     aug_p=0.3)\n",
    "# print(aug.augment(train.text.iloc[3]))"
   ]
  },
  {
   "cell_type": "code",
   "execution_count": 6,
   "metadata": {},
   "outputs": [],
   "source": [
    "prompt = tokenizer.batch_encode_plus(['Is this essay AI-generated, yes or no?'],add_special_tokens=False,return_tensors='pt')\n",
    "prompt,prompt_mask = prompt['input_ids'],prompt['attention_mask']"
   ]
  },
  {
   "cell_type": "code",
   "execution_count": 7,
   "metadata": {},
   "outputs": [],
   "source": [
    "train_data = TxtData(train,aug.augment)\n",
    "train_loader = DataLoader(train_data, batch_size=batch_size, shuffle=True, num_workers=num_workers, \\\n",
    "                          collate_fn=partial(collate_fn,tokenizer=tokenizer,prompt=prompt,prompt_mask=prompt_mask))\n",
    "val_data = TxtData(val)\n",
    "val_loader = DataLoader(val_data, batch_size=batch_size*2, shuffle=False, num_workers=num_workers, \\\n",
    "                          collate_fn=partial(collate_fn,tokenizer=tokenizer,prompt=prompt,prompt_mask=prompt_mask))\n",
    "# input_ids,attention_mask, label, score = next(iter(train_loader))"
   ]
  },
  {
   "cell_type": "markdown",
   "metadata": {},
   "source": [
    "Model"
   ]
  },
  {
   "cell_type": "code",
   "execution_count": 8,
   "metadata": {},
   "outputs": [],
   "source": [
    "epochs = 1\n",
    "accumulation_steps = 64\n",
    "verbose = 2048\n",
    "lr = 6e-5\n",
    "clip = 6e-3\n",
    "alpha = 0.15\n",
    "num_virtual_tokens = 32"
   ]
  },
  {
   "cell_type": "code",
   "execution_count": 9,
   "metadata": {},
   "outputs": [],
   "source": [
    "from torch.nn.utils import clip_grad_value_\n",
    "from transformers import BitsAndBytesConfig\n",
    "from peft import (\n",
    "    get_peft_model,\n",
    "    PeftType,\n",
    "    PromptEncoderConfig)\n",
    "\n",
    "nf4_config = BitsAndBytesConfig(\n",
    "   load_in_4bit=True,\n",
    "   bnb_4bit_quant_type=\"nf4\",\n",
    "   bnb_4bit_use_double_quant=True,\n",
    "   bnb_4bit_compute_dtype=torch.bfloat16\n",
    ")"
   ]
  },
  {
   "cell_type": "code",
   "execution_count": 10,
   "metadata": {},
   "outputs": [
    {
     "data": {
      "application/vnd.jupyter.widget-view+json": {
       "model_id": "8bb5843ca9e844b3adf30e0063d67354",
       "version_major": 2,
       "version_minor": 0
      },
      "text/plain": [
       "Loading checkpoint shards:   0%|          | 0/2 [00:00<?, ?it/s]"
      ]
     },
     "metadata": {},
     "output_type": "display_data"
    }
   ],
   "source": [
    "model = MistralForCausalLM.from_pretrained(TARGET_MODEL,quantization_config=nf4_config, \\\n",
    "                                                          device_map={\"\":0},use_flash_attention_2=True)\n",
    "peft_type = PeftType.P_TUNING\n",
    "peft_config = PromptEncoderConfig(task_type=\"SEQ_CLS\", num_virtual_tokens=num_virtual_tokens, \\\n",
    "                                  encoder_hidden_size=4096,encoder_dropout=0.1,\\\n",
    "                                  encoder_num_layers=2,encoder_reparameterization_type='MLP')#'LSTM')\n",
    "model = get_peft_model(model, peft_config)\n",
    "model.config.pad_token_id = tokenizer.pad_token_id\n",
    "# model.print_trainable_parameters()\n",
    "trainable_params = [param for param in model.parameters() if param.requires_grad]\n",
    "trainable_names = [name for name,param in model.named_parameters() if param.requires_grad]\n",
    "# optimizer = torch.optim.AdamW(trainable_params,lr = lr,amsgrad=True,weight_decay=6e-3)\n",
    "optimizer = torch.optim.SGD(trainable_params,lr=lr)"
   ]
  },
  {
   "cell_type": "code",
   "execution_count": 11,
   "metadata": {},
   "outputs": [
    {
     "name": "stdout",
     "output_type": "stream",
     "text": [
      "epoch 0 iter 2047: train loss 1.3375108776963316, test AUC 0.46832432432432425\n",
      "epoch 0 iter 4095: train loss 1.175271304018679, test AUC 0.6407986551144446\n",
      "epoch 0 iter 6143: train loss 1.0663184128206922, test AUC 0.6800548299495668\n",
      "epoch 0 iter 8191: train loss 1.0003767281741602, test AUC 0.71911858269753\n",
      "epoch 0 iter 10239: train loss 0.9397046865778975, test AUC 0.7576795551532394\n",
      "epoch 0 iter 12287: train loss 0.9210830043448368, test AUC 0.7855471356523989\n",
      "epoch 0 iter 14335: train loss 0.8695427044440294, test AUC 0.8109432303116515\n",
      "epoch 0 iter 16383: train loss 0.858693098751246, test AUC 0.797028320186215\n",
      "epoch 0 iter 18431: train loss 0.8557329258619575, test AUC 0.811203413940256\n",
      "epoch 0 iter 20479: train loss 0.8372019648668356, test AUC 0.8101497478339583\n",
      "epoch 0 iter 22527: train loss 0.8191808817791753, test AUC 0.8308992628992629\n",
      "epoch 0 iter 24575: train loss 0.8007474370970158, test AUC 0.8214048881417302\n",
      "epoch 0 iter 26623: train loss 0.7928132977540372, test AUC 0.8600108625371783\n"
     ]
    },
    {
     "ename": "KeyboardInterrupt",
     "evalue": "",
     "output_type": "error",
     "traceback": [
      "\u001b[0;31m---------------------------------------------------------------------------\u001b[0m",
      "\u001b[0;31mKeyboardInterrupt\u001b[0m                         Traceback (most recent call last)",
      "\u001b[1;32m/home/zhenlan/Desktop/Projects/LLM - Detect AI Generated Text/prompt_tuning02.ipynb Cell 13\u001b[0m line \u001b[0;36m3\n\u001b[1;32m     <a href='vscode-notebook-cell:/home/zhenlan/Desktop/Projects/LLM%20-%20Detect%20AI%20Generated%20Text/prompt_tuning02.ipynb#X15sZmlsZQ%3D%3D?line=27'>28</a>\u001b[0m     skip \u001b[39m+\u001b[39m\u001b[39m=\u001b[39m \u001b[39m1\u001b[39m\n\u001b[1;32m     <a href='vscode-notebook-cell:/home/zhenlan/Desktop/Projects/LLM%20-%20Detect%20AI%20Generated%20Text/prompt_tuning02.ipynb#X15sZmlsZQ%3D%3D?line=28'>29</a>\u001b[0m     \u001b[39mcontinue\u001b[39;00m\n\u001b[0;32m---> <a href='vscode-notebook-cell:/home/zhenlan/Desktop/Projects/LLM%20-%20Detect%20AI%20Generated%20Text/prompt_tuning02.ipynb#X15sZmlsZQ%3D%3D?line=30'>31</a>\u001b[0m loss\u001b[39m.\u001b[39;49mbackward()\n\u001b[1;32m     <a href='vscode-notebook-cell:/home/zhenlan/Desktop/Projects/LLM%20-%20Detect%20AI%20Generated%20Text/prompt_tuning02.ipynb#X15sZmlsZQ%3D%3D?line=31'>32</a>\u001b[0m train_loss \u001b[39m+\u001b[39m\u001b[39m=\u001b[39m loss\u001b[39m.\u001b[39mitem()\n\u001b[1;32m     <a href='vscode-notebook-cell:/home/zhenlan/Desktop/Projects/LLM%20-%20Detect%20AI%20Generated%20Text/prompt_tuning02.ipynb#X15sZmlsZQ%3D%3D?line=32'>33</a>\u001b[0m \u001b[39m# print(i,train_loss)\u001b[39;00m\n",
      "File \u001b[0;32m~/anaconda3/lib/python3.10/site-packages/torch/_tensor.py:487\u001b[0m, in \u001b[0;36mTensor.backward\u001b[0;34m(self, gradient, retain_graph, create_graph, inputs)\u001b[0m\n\u001b[1;32m    477\u001b[0m \u001b[39mif\u001b[39;00m has_torch_function_unary(\u001b[39mself\u001b[39m):\n\u001b[1;32m    478\u001b[0m     \u001b[39mreturn\u001b[39;00m handle_torch_function(\n\u001b[1;32m    479\u001b[0m         Tensor\u001b[39m.\u001b[39mbackward,\n\u001b[1;32m    480\u001b[0m         (\u001b[39mself\u001b[39m,),\n\u001b[0;32m   (...)\u001b[0m\n\u001b[1;32m    485\u001b[0m         inputs\u001b[39m=\u001b[39minputs,\n\u001b[1;32m    486\u001b[0m     )\n\u001b[0;32m--> 487\u001b[0m torch\u001b[39m.\u001b[39;49mautograd\u001b[39m.\u001b[39;49mbackward(\n\u001b[1;32m    488\u001b[0m     \u001b[39mself\u001b[39;49m, gradient, retain_graph, create_graph, inputs\u001b[39m=\u001b[39;49minputs\n\u001b[1;32m    489\u001b[0m )\n",
      "File \u001b[0;32m~/anaconda3/lib/python3.10/site-packages/torch/autograd/__init__.py:200\u001b[0m, in \u001b[0;36mbackward\u001b[0;34m(tensors, grad_tensors, retain_graph, create_graph, grad_variables, inputs)\u001b[0m\n\u001b[1;32m    195\u001b[0m     retain_graph \u001b[39m=\u001b[39m create_graph\n\u001b[1;32m    197\u001b[0m \u001b[39m# The reason we repeat same the comment below is that\u001b[39;00m\n\u001b[1;32m    198\u001b[0m \u001b[39m# some Python versions print out the first line of a multi-line function\u001b[39;00m\n\u001b[1;32m    199\u001b[0m \u001b[39m# calls in the traceback and some print out the last line\u001b[39;00m\n\u001b[0;32m--> 200\u001b[0m Variable\u001b[39m.\u001b[39;49m_execution_engine\u001b[39m.\u001b[39;49mrun_backward(  \u001b[39m# Calls into the C++ engine to run the backward pass\u001b[39;49;00m\n\u001b[1;32m    201\u001b[0m     tensors, grad_tensors_, retain_graph, create_graph, inputs,\n\u001b[1;32m    202\u001b[0m     allow_unreachable\u001b[39m=\u001b[39;49m\u001b[39mTrue\u001b[39;49;00m, accumulate_grad\u001b[39m=\u001b[39;49m\u001b[39mTrue\u001b[39;49;00m)\n",
      "\u001b[0;31mKeyboardInterrupt\u001b[0m: "
     ]
    }
   ],
   "source": [
    "loss_fn = nn.BCEWithLogitsLoss()\n",
    "loss_fct = torch.nn.CrossEntropyLoss()\n",
    "best_auc = 0\n",
    "for epoch in range(epochs):\n",
    "    model.train()\n",
    "    train_loss = 0\n",
    "    skip = 0\n",
    "    for i, (input_ids,attention_mask, label, score) in enumerate(train_loader):\n",
    "        # train\n",
    "        input_ids,attention_mask, label, score = input_ids.to('cuda'),attention_mask.to('cuda'), label.to('cuda'), score.to('cuda')\n",
    "        out = model(input_ids=input_ids,attention_mask=attention_mask)\n",
    "        logits = out.logits[:,-1,[5081, 5592]].sum(-1) - out.logits[:,-1,[708, 1770]].sum(-1)\n",
    "        if torch.any(torch.isnan(logits)):\n",
    "            skip += 1\n",
    "            continue\n",
    "        # LM objective\n",
    "        shift_logits = out.logits[..., num_virtual_tokens:-1, :].contiguous()\n",
    "        shift_labels = input_ids[..., 1:].contiguous()\n",
    "        # Flatten the tokens\n",
    "        shift_logits = shift_logits.view(-1, tokenizer.vocab_size)\n",
    "        shift_labels = shift_labels.view(-1)\n",
    "        # Enable model parallelism\n",
    "        shift_labels = shift_labels.to(shift_logits.device)\n",
    "        loss_lm = loss_fct(shift_logits, shift_labels)\n",
    "\n",
    "        loss = loss_fn(logits, label) + loss_lm * alpha\n",
    "        if math.isinf(loss.item()) or math.isnan(loss.item()):\n",
    "            skip += 1\n",
    "            continue\n",
    "\n",
    "        loss.backward()\n",
    "        train_loss += loss.item()\n",
    "        # print(i,train_loss)\n",
    "        if (i + 1) % accumulation_steps == 0:\n",
    "            clip_grad_value_(trainable_params,clip)\n",
    "            optimizer.step()\n",
    "            optimizer.zero_grad()\n",
    "\n",
    "        # eval    \n",
    "        if (i + 1) % verbose == 0:\n",
    "            model.eval()\n",
    "            train_loss /= (verbose-skip)\n",
    "            yhat,y = [],[]\n",
    "            for input_ids,attention_mask, label, score in val_loader:\n",
    "                input_ids,attention_mask = input_ids.to('cuda'),attention_mask.to('cuda')\n",
    "                with torch.no_grad():\n",
    "                    out = model(input_ids=input_ids,attention_mask=attention_mask)\n",
    "                    logits = out.logits[:,-1,[5081, 5592]].sum(-1) - out.logits[:,-1,[708, 1770]].sum(-1)\n",
    "                    out = logits.detach().cpu().numpy()\n",
    "                if np.any(np.isnan(out)):\n",
    "                    continue\n",
    "                yhat.append(out)\n",
    "                y.append(label)\n",
    "            yhat = np.concatenate(yhat)\n",
    "            y = np.concatenate(y)\n",
    "            auc = roc_auc_score(y, yhat)\n",
    "            print(f\"epoch {epoch} iter {i}: train loss {train_loss}, test AUC {auc}\")\n",
    "            if auc > best_auc:\n",
    "                best_auc = auc\n",
    "                torch.save({k: v for k, v in model.state_dict().items() if k in trainable_names}, save_model_path+'/weights.pth')\n",
    "            train_loss = 0\n",
    "            skip = 0\n",
    "            model.train()"
   ]
  },
  {
   "cell_type": "markdown",
   "metadata": {},
   "source": [
    "Save/Load model"
   ]
  },
  {
   "cell_type": "code",
   "execution_count": null,
   "metadata": {},
   "outputs": [],
   "source": [
    "# only save/load the trainable.\n",
    "# model.load_state_dict(torch.load(save_model_path+'/weights2.pth'),strict=False)"
   ]
  },
  {
   "cell_type": "code",
   "execution_count": null,
   "metadata": {},
   "outputs": [],
   "source": [
    "# model.base_model.save_pretrained(save_model_path,safe_serialization=False)\n",
    "# model.config.save_pretrained(save_model_path)\n",
    "# model.save_pretrained(save_model_path)\n",
    "# tokenizer.save_pretrained(save_model_path)\n",
    "\n",
    "\n",
    "# from peft import PeftModel\n",
    "# baseModel = MistralForSequenceClassification.from_pretrained(TARGET_MODEL,num_labels=2,quantization_config=nf4_config, \\\n",
    "#                                                           device_map={\"\":0},use_flash_attention_2=True)\n",
    "# peft_type = PeftType.P_TUNING\n",
    "# peft_config = PromptEncoderConfig(task_type=\"SEQ_CLS\", num_virtual_tokens=8, \\\n",
    "#                                   encoder_hidden_size=4096,encoder_dropout=0.1,\\\n",
    "#                                   encoder_num_layers=2,encoder_reparameterization_type='MLP')#'LSTM')\n",
    "# model2 = PeftModel.from_pretrained(baseModel, 'Model/p_tune/adapter',config=peft_config)\n",
    "\n",
    "\n",
    "# import json\n",
    "# with open('Model/p_tune/config.json', 'r') as file:\n",
    "#     config = json.load(file)\n",
    "# from transformers import PretrainedConfig\n",
    "# model = MistralForSequenceClassification(PretrainedConfig(**config))\n",
    "# peft_type = PeftType.P_TUNING\n",
    "# peft_config = PromptEncoderConfig(task_type=\"SEQ_CLS\", num_virtual_tokens=8, \\\n",
    "#                                   encoder_hidden_size=4096,encoder_dropout=0.1,\\\n",
    "#                                   encoder_num_layers=2,encoder_reparameterization_type='MLP')#'LSTM')\n",
    "# model = get_peft_model(model, peft_config)\n",
    "# model.config.pad_token_id = tokenizer.pad_token_id\n",
    "# model.load_state_dict(torch.load('Model/p_tune.pth'))\n",
    "# model = model.to('cuda')"
   ]
  },
  {
   "cell_type": "code",
   "execution_count": null,
   "metadata": {},
   "outputs": [],
   "source": []
  },
  {
   "cell_type": "code",
   "execution_count": null,
   "metadata": {},
   "outputs": [],
   "source": [
    "# model.eval()\n",
    "# yhat,y = [],[]\n",
    "# for input_ids,attention_mask, label, score in val_loader:\n",
    "#     input_ids,attention_mask = input_ids.to('cuda'),attention_mask.to('cuda')\n",
    "#     with torch.no_grad():\n",
    "#         out = model(input_ids=input_ids,attention_mask=attention_mask).logits[:,0].detach().cpu().numpy()\n",
    "#     if np.any(np.isnan(out)):\n",
    "#         continue\n",
    "#     yhat.append(out)\n",
    "#     y.append(label)\n",
    "# yhat = np.concatenate(yhat)\n",
    "# y = np.concatenate(y)\n",
    "# auc = roc_auc_score(y, yhat)\n",
    "# auc"
   ]
  },
  {
   "cell_type": "code",
   "execution_count": null,
   "metadata": {},
   "outputs": [],
   "source": []
  }
 ],
 "metadata": {
  "kernelspec": {
   "display_name": "base",
   "language": "python",
   "name": "python3"
  },
  "language_info": {
   "codemirror_mode": {
    "name": "ipython",
    "version": 3
   },
   "file_extension": ".py",
   "mimetype": "text/x-python",
   "name": "python",
   "nbconvert_exporter": "python",
   "pygments_lexer": "ipython3",
   "version": "3.10.9"
  }
 },
 "nbformat": 4,
 "nbformat_minor": 2
}
